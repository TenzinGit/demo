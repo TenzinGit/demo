{
  "nbformat": 4,
  "nbformat_minor": 0,
  "metadata": {
    "colab": {
      "name": "nilearn.ipynb",
      "provenance": [],
      "collapsed_sections": []
    },
    "kernelspec": {
      "name": "python3",
      "display_name": "Python 3"
    }
  },
  "cells": [
    {
      "cell_type": "code",
      "metadata": {
        "id": "G0XsGgCQOXg8",
        "colab": {
          "base_uri": "https://localhost:8080/",
          "height": 338
        },
        "outputId": "7052b194-e6e8-4c94-9c33-522c998bf341"
      },
      "source": [
        "import pandas as pd\n",
        "\n",
        "# read_csv can read in just about any plain-text tabular data\n",
        "data = pd.read_csv('abide2.tsv', sep='\\t')\n",
        "data.head()"
      ],
      "execution_count": 24,
      "outputs": [
        {
          "output_type": "execute_result",
          "data": {
            "text/html": [
              "<div>\n",
              "<style scoped>\n",
              "    .dataframe tbody tr th:only-of-type {\n",
              "        vertical-align: middle;\n",
              "    }\n",
              "\n",
              "    .dataframe tbody tr th {\n",
              "        vertical-align: top;\n",
              "    }\n",
              "\n",
              "    .dataframe thead th {\n",
              "        text-align: right;\n",
              "    }\n",
              "</style>\n",
              "<table border=\"1\" class=\"dataframe\">\n",
              "  <thead>\n",
              "    <tr style=\"text-align: right;\">\n",
              "      <th></th>\n",
              "      <th>site</th>\n",
              "      <th>subject</th>\n",
              "      <th>age</th>\n",
              "      <th>age_resid</th>\n",
              "      <th>sex</th>\n",
              "      <th>group</th>\n",
              "      <th>fsArea_L_V1_ROI</th>\n",
              "      <th>fsArea_L_MST_ROI</th>\n",
              "      <th>fsArea_L_V6_ROI</th>\n",
              "      <th>fsArea_L_V2_ROI</th>\n",
              "      <th>fsArea_L_V3_ROI</th>\n",
              "      <th>fsArea_L_V4_ROI</th>\n",
              "      <th>fsArea_L_V8_ROI</th>\n",
              "      <th>fsArea_L_4_ROI</th>\n",
              "      <th>fsArea_L_3b_ROI</th>\n",
              "      <th>fsArea_L_FEF_ROI</th>\n",
              "      <th>fsArea_L_PEF_ROI</th>\n",
              "      <th>fsArea_L_55b_ROI</th>\n",
              "      <th>fsArea_L_V3A_ROI</th>\n",
              "      <th>fsArea_L_RSC_ROI</th>\n",
              "      <th>fsArea_L_POS2_ROI</th>\n",
              "      <th>fsArea_L_V7_ROI</th>\n",
              "      <th>fsArea_L_IPS1_ROI</th>\n",
              "      <th>fsArea_L_FFC_ROI</th>\n",
              "      <th>fsArea_L_V3B_ROI</th>\n",
              "      <th>fsArea_L_LO1_ROI</th>\n",
              "      <th>fsArea_L_LO2_ROI</th>\n",
              "      <th>fsArea_L_PIT_ROI</th>\n",
              "      <th>fsArea_L_MT_ROI</th>\n",
              "      <th>fsArea_L_A1_ROI</th>\n",
              "      <th>fsArea_L_PSL_ROI</th>\n",
              "      <th>fsArea_L_SFL_ROI</th>\n",
              "      <th>fsArea_L_PCV_ROI</th>\n",
              "      <th>fsArea_L_STV_ROI</th>\n",
              "      <th>fsArea_L_7Pm_ROI</th>\n",
              "      <th>fsArea_L_7m_ROI</th>\n",
              "      <th>fsArea_L_POS1_ROI</th>\n",
              "      <th>fsArea_L_23d_ROI</th>\n",
              "      <th>fsArea_L_v23ab_ROI</th>\n",
              "      <th>fsArea_L_d23ab_ROI</th>\n",
              "      <th>...</th>\n",
              "      <th>fsCT_R_TPOJ3_ROI</th>\n",
              "      <th>fsCT_R_DVT_ROI</th>\n",
              "      <th>fsCT_R_PGp_ROI</th>\n",
              "      <th>fsCT_R_IP2_ROI</th>\n",
              "      <th>fsCT_R_IP1_ROI</th>\n",
              "      <th>fsCT_R_IP0_ROI</th>\n",
              "      <th>fsCT_R_PFop_ROI</th>\n",
              "      <th>fsCT_R_PF_ROI</th>\n",
              "      <th>fsCT_R_PFm_ROI</th>\n",
              "      <th>fsCT_R_PGi_ROI</th>\n",
              "      <th>fsCT_R_PGs_ROI</th>\n",
              "      <th>fsCT_R_V6A_ROI</th>\n",
              "      <th>fsCT_R_VMV1_ROI</th>\n",
              "      <th>fsCT_R_VMV3_ROI</th>\n",
              "      <th>fsCT_R_PHA2_ROI</th>\n",
              "      <th>fsCT_R_V4t_ROI</th>\n",
              "      <th>fsCT_R_FST_ROI</th>\n",
              "      <th>fsCT_R_V3CD_ROI</th>\n",
              "      <th>fsCT_R_LO3_ROI</th>\n",
              "      <th>fsCT_R_VMV2_ROI</th>\n",
              "      <th>fsCT_R_31pd_ROI</th>\n",
              "      <th>fsCT_R_31a_ROI</th>\n",
              "      <th>fsCT_R_VVC_ROI</th>\n",
              "      <th>fsCT_R_25_ROI</th>\n",
              "      <th>fsCT_R_s32_ROI</th>\n",
              "      <th>fsCT_R_pOFC_ROI</th>\n",
              "      <th>fsCT_R_PoI1_ROI</th>\n",
              "      <th>fsCT_R_Ig_ROI</th>\n",
              "      <th>fsCT_R_FOP5_ROI</th>\n",
              "      <th>fsCT_R_p10p_ROI</th>\n",
              "      <th>fsCT_R_p47r_ROI</th>\n",
              "      <th>fsCT_R_TGv_ROI</th>\n",
              "      <th>fsCT_R_MBelt_ROI</th>\n",
              "      <th>fsCT_R_LBelt_ROI</th>\n",
              "      <th>fsCT_R_A4_ROI</th>\n",
              "      <th>fsCT_R_STSva_ROI</th>\n",
              "      <th>fsCT_R_TE1m_ROI</th>\n",
              "      <th>fsCT_R_PI_ROI</th>\n",
              "      <th>fsCT_R_a32pr_ROI</th>\n",
              "      <th>fsCT_R_p24_ROI</th>\n",
              "    </tr>\n",
              "  </thead>\n",
              "  <tbody>\n",
              "    <tr>\n",
              "      <th>0</th>\n",
              "      <td>ABIDEII-KKI_1</td>\n",
              "      <td>29293</td>\n",
              "      <td>8.893151</td>\n",
              "      <td>13.642852</td>\n",
              "      <td>2.0</td>\n",
              "      <td>1.0</td>\n",
              "      <td>2750.0</td>\n",
              "      <td>306.0</td>\n",
              "      <td>354.0</td>\n",
              "      <td>2123.0</td>\n",
              "      <td>1451.0</td>\n",
              "      <td>1128.0</td>\n",
              "      <td>269.0</td>\n",
              "      <td>1751.0</td>\n",
              "      <td>1338.0</td>\n",
              "      <td>632.0</td>\n",
              "      <td>133.0</td>\n",
              "      <td>280.0</td>\n",
              "      <td>404.0</td>\n",
              "      <td>362.0</td>\n",
              "      <td>641.0</td>\n",
              "      <td>151.0</td>\n",
              "      <td>326.0</td>\n",
              "      <td>577.0</td>\n",
              "      <td>175.0</td>\n",
              "      <td>265.0</td>\n",
              "      <td>255.0</td>\n",
              "      <td>255.0</td>\n",
              "      <td>304.0</td>\n",
              "      <td>162.0</td>\n",
              "      <td>298.0</td>\n",
              "      <td>478.0</td>\n",
              "      <td>263.0</td>\n",
              "      <td>287.0</td>\n",
              "      <td>208.0</td>\n",
              "      <td>304.0</td>\n",
              "      <td>502.0</td>\n",
              "      <td>277.0</td>\n",
              "      <td>197.0</td>\n",
              "      <td>265.0</td>\n",
              "      <td>...</td>\n",
              "      <td>2.775</td>\n",
              "      <td>2.258</td>\n",
              "      <td>2.862</td>\n",
              "      <td>2.149</td>\n",
              "      <td>2.522</td>\n",
              "      <td>2.016</td>\n",
              "      <td>3.748</td>\n",
              "      <td>3.142</td>\n",
              "      <td>2.437</td>\n",
              "      <td>3.050</td>\n",
              "      <td>2.970</td>\n",
              "      <td>1.761</td>\n",
              "      <td>2.605</td>\n",
              "      <td>2.658</td>\n",
              "      <td>2.405</td>\n",
              "      <td>2.865</td>\n",
              "      <td>2.852</td>\n",
              "      <td>1.896</td>\n",
              "      <td>2.130</td>\n",
              "      <td>2.201</td>\n",
              "      <td>2.478</td>\n",
              "      <td>3.532</td>\n",
              "      <td>3.343</td>\n",
              "      <td>3.278</td>\n",
              "      <td>3.744</td>\n",
              "      <td>2.526</td>\n",
              "      <td>2.961</td>\n",
              "      <td>3.288</td>\n",
              "      <td>2.484</td>\n",
              "      <td>2.403</td>\n",
              "      <td>3.362</td>\n",
              "      <td>2.827</td>\n",
              "      <td>2.777</td>\n",
              "      <td>2.526</td>\n",
              "      <td>3.202</td>\n",
              "      <td>3.024</td>\n",
              "      <td>3.354</td>\n",
              "      <td>2.629</td>\n",
              "      <td>2.699</td>\n",
              "      <td>3.179</td>\n",
              "    </tr>\n",
              "    <tr>\n",
              "      <th>1</th>\n",
              "      <td>ABIDEII-OHSU_1</td>\n",
              "      <td>28997</td>\n",
              "      <td>12.000000</td>\n",
              "      <td>16.081732</td>\n",
              "      <td>2.0</td>\n",
              "      <td>1.0</td>\n",
              "      <td>2836.0</td>\n",
              "      <td>186.0</td>\n",
              "      <td>354.0</td>\n",
              "      <td>2261.0</td>\n",
              "      <td>1584.0</td>\n",
              "      <td>1241.0</td>\n",
              "      <td>259.0</td>\n",
              "      <td>1521.0</td>\n",
              "      <td>1105.0</td>\n",
              "      <td>302.0</td>\n",
              "      <td>230.0</td>\n",
              "      <td>369.0</td>\n",
              "      <td>467.0</td>\n",
              "      <td>305.0</td>\n",
              "      <td>716.0</td>\n",
              "      <td>114.0</td>\n",
              "      <td>266.0</td>\n",
              "      <td>568.0</td>\n",
              "      <td>161.0</td>\n",
              "      <td>234.0</td>\n",
              "      <td>226.0</td>\n",
              "      <td>184.0</td>\n",
              "      <td>136.0</td>\n",
              "      <td>98.0</td>\n",
              "      <td>522.0</td>\n",
              "      <td>389.0</td>\n",
              "      <td>383.0</td>\n",
              "      <td>305.0</td>\n",
              "      <td>247.0</td>\n",
              "      <td>356.0</td>\n",
              "      <td>504.0</td>\n",
              "      <td>176.0</td>\n",
              "      <td>193.0</td>\n",
              "      <td>139.0</td>\n",
              "      <td>...</td>\n",
              "      <td>2.489</td>\n",
              "      <td>2.779</td>\n",
              "      <td>3.289</td>\n",
              "      <td>2.723</td>\n",
              "      <td>2.596</td>\n",
              "      <td>2.644</td>\n",
              "      <td>2.955</td>\n",
              "      <td>2.930</td>\n",
              "      <td>3.074</td>\n",
              "      <td>2.882</td>\n",
              "      <td>3.516</td>\n",
              "      <td>2.888</td>\n",
              "      <td>3.104</td>\n",
              "      <td>2.858</td>\n",
              "      <td>2.645</td>\n",
              "      <td>2.438</td>\n",
              "      <td>2.789</td>\n",
              "      <td>2.401</td>\n",
              "      <td>3.087</td>\n",
              "      <td>2.659</td>\n",
              "      <td>2.317</td>\n",
              "      <td>2.775</td>\n",
              "      <td>3.357</td>\n",
              "      <td>3.882</td>\n",
              "      <td>3.921</td>\n",
              "      <td>2.746</td>\n",
              "      <td>3.724</td>\n",
              "      <td>3.112</td>\n",
              "      <td>2.653</td>\n",
              "      <td>2.287</td>\n",
              "      <td>2.809</td>\n",
              "      <td>3.539</td>\n",
              "      <td>2.944</td>\n",
              "      <td>2.769</td>\n",
              "      <td>3.530</td>\n",
              "      <td>3.079</td>\n",
              "      <td>3.282</td>\n",
              "      <td>2.670</td>\n",
              "      <td>2.746</td>\n",
              "      <td>3.324</td>\n",
              "    </tr>\n",
              "    <tr>\n",
              "      <th>2</th>\n",
              "      <td>ABIDEII-GU_1</td>\n",
              "      <td>28845</td>\n",
              "      <td>8.390000</td>\n",
              "      <td>12.866264</td>\n",
              "      <td>1.0</td>\n",
              "      <td>2.0</td>\n",
              "      <td>3394.0</td>\n",
              "      <td>223.0</td>\n",
              "      <td>373.0</td>\n",
              "      <td>2827.0</td>\n",
              "      <td>1816.0</td>\n",
              "      <td>1299.0</td>\n",
              "      <td>221.0</td>\n",
              "      <td>1657.0</td>\n",
              "      <td>1374.0</td>\n",
              "      <td>456.0</td>\n",
              "      <td>324.0</td>\n",
              "      <td>449.0</td>\n",
              "      <td>549.0</td>\n",
              "      <td>333.0</td>\n",
              "      <td>709.0</td>\n",
              "      <td>218.0</td>\n",
              "      <td>526.0</td>\n",
              "      <td>633.0</td>\n",
              "      <td>361.0</td>\n",
              "      <td>233.0</td>\n",
              "      <td>280.0</td>\n",
              "      <td>248.0</td>\n",
              "      <td>170.0</td>\n",
              "      <td>151.0</td>\n",
              "      <td>546.0</td>\n",
              "      <td>687.0</td>\n",
              "      <td>525.0</td>\n",
              "      <td>599.0</td>\n",
              "      <td>279.0</td>\n",
              "      <td>505.0</td>\n",
              "      <td>530.0</td>\n",
              "      <td>287.0</td>\n",
              "      <td>218.0</td>\n",
              "      <td>200.0</td>\n",
              "      <td>...</td>\n",
              "      <td>2.528</td>\n",
              "      <td>2.254</td>\n",
              "      <td>2.795</td>\n",
              "      <td>2.548</td>\n",
              "      <td>2.763</td>\n",
              "      <td>2.683</td>\n",
              "      <td>3.102</td>\n",
              "      <td>2.739</td>\n",
              "      <td>2.955</td>\n",
              "      <td>2.746</td>\n",
              "      <td>2.772</td>\n",
              "      <td>2.292</td>\n",
              "      <td>2.739</td>\n",
              "      <td>2.828</td>\n",
              "      <td>2.433</td>\n",
              "      <td>2.231</td>\n",
              "      <td>2.492</td>\n",
              "      <td>2.369</td>\n",
              "      <td>2.523</td>\n",
              "      <td>2.773</td>\n",
              "      <td>2.382</td>\n",
              "      <td>2.869</td>\n",
              "      <td>3.407</td>\n",
              "      <td>3.441</td>\n",
              "      <td>2.729</td>\n",
              "      <td>2.659</td>\n",
              "      <td>3.336</td>\n",
              "      <td>2.948</td>\n",
              "      <td>2.534</td>\n",
              "      <td>2.117</td>\n",
              "      <td>2.435</td>\n",
              "      <td>3.321</td>\n",
              "      <td>2.799</td>\n",
              "      <td>2.388</td>\n",
              "      <td>3.148</td>\n",
              "      <td>3.125</td>\n",
              "      <td>3.116</td>\n",
              "      <td>2.891</td>\n",
              "      <td>2.940</td>\n",
              "      <td>3.232</td>\n",
              "    </tr>\n",
              "    <tr>\n",
              "      <th>3</th>\n",
              "      <td>ABIDEII-NYU_1</td>\n",
              "      <td>29210</td>\n",
              "      <td>8.300000</td>\n",
              "      <td>13.698139</td>\n",
              "      <td>1.0</td>\n",
              "      <td>1.0</td>\n",
              "      <td>3382.0</td>\n",
              "      <td>266.0</td>\n",
              "      <td>422.0</td>\n",
              "      <td>2686.0</td>\n",
              "      <td>1893.0</td>\n",
              "      <td>1359.0</td>\n",
              "      <td>234.0</td>\n",
              "      <td>1889.0</td>\n",
              "      <td>1545.0</td>\n",
              "      <td>407.0</td>\n",
              "      <td>255.0</td>\n",
              "      <td>352.0</td>\n",
              "      <td>618.0</td>\n",
              "      <td>412.0</td>\n",
              "      <td>828.0</td>\n",
              "      <td>214.0</td>\n",
              "      <td>307.0</td>\n",
              "      <td>529.0</td>\n",
              "      <td>219.0</td>\n",
              "      <td>252.0</td>\n",
              "      <td>279.0</td>\n",
              "      <td>231.0</td>\n",
              "      <td>178.0</td>\n",
              "      <td>224.0</td>\n",
              "      <td>530.0</td>\n",
              "      <td>528.0</td>\n",
              "      <td>445.0</td>\n",
              "      <td>362.0</td>\n",
              "      <td>251.0</td>\n",
              "      <td>428.0</td>\n",
              "      <td>668.0</td>\n",
              "      <td>242.0</td>\n",
              "      <td>217.0</td>\n",
              "      <td>240.0</td>\n",
              "      <td>...</td>\n",
              "      <td>2.968</td>\n",
              "      <td>2.751</td>\n",
              "      <td>2.668</td>\n",
              "      <td>2.752</td>\n",
              "      <td>2.744</td>\n",
              "      <td>2.578</td>\n",
              "      <td>3.227</td>\n",
              "      <td>3.317</td>\n",
              "      <td>2.958</td>\n",
              "      <td>3.014</td>\n",
              "      <td>3.026</td>\n",
              "      <td>2.973</td>\n",
              "      <td>2.768</td>\n",
              "      <td>2.802</td>\n",
              "      <td>2.807</td>\n",
              "      <td>2.958</td>\n",
              "      <td>2.608</td>\n",
              "      <td>2.563</td>\n",
              "      <td>2.489</td>\n",
              "      <td>2.729</td>\n",
              "      <td>2.883</td>\n",
              "      <td>2.884</td>\n",
              "      <td>2.967</td>\n",
              "      <td>2.861</td>\n",
              "      <td>2.874</td>\n",
              "      <td>2.860</td>\n",
              "      <td>2.841</td>\n",
              "      <td>3.003</td>\n",
              "      <td>3.098</td>\n",
              "      <td>2.480</td>\n",
              "      <td>3.349</td>\n",
              "      <td>3.344</td>\n",
              "      <td>2.694</td>\n",
              "      <td>3.030</td>\n",
              "      <td>3.258</td>\n",
              "      <td>2.774</td>\n",
              "      <td>3.383</td>\n",
              "      <td>2.696</td>\n",
              "      <td>3.014</td>\n",
              "      <td>3.264</td>\n",
              "    </tr>\n",
              "    <tr>\n",
              "      <th>4</th>\n",
              "      <td>ABIDEII-EMC_1</td>\n",
              "      <td>29894</td>\n",
              "      <td>7.772758</td>\n",
              "      <td>14.772459</td>\n",
              "      <td>2.0</td>\n",
              "      <td>2.0</td>\n",
              "      <td>3080.0</td>\n",
              "      <td>161.0</td>\n",
              "      <td>346.0</td>\n",
              "      <td>2105.0</td>\n",
              "      <td>1307.0</td>\n",
              "      <td>1004.0</td>\n",
              "      <td>254.0</td>\n",
              "      <td>1334.0</td>\n",
              "      <td>985.0</td>\n",
              "      <td>315.0</td>\n",
              "      <td>196.0</td>\n",
              "      <td>321.0</td>\n",
              "      <td>569.0</td>\n",
              "      <td>279.0</td>\n",
              "      <td>813.0</td>\n",
              "      <td>171.0</td>\n",
              "      <td>301.0</td>\n",
              "      <td>496.0</td>\n",
              "      <td>179.0</td>\n",
              "      <td>200.0</td>\n",
              "      <td>251.0</td>\n",
              "      <td>192.0</td>\n",
              "      <td>215.0</td>\n",
              "      <td>166.0</td>\n",
              "      <td>358.0</td>\n",
              "      <td>337.0</td>\n",
              "      <td>285.0</td>\n",
              "      <td>329.0</td>\n",
              "      <td>258.0</td>\n",
              "      <td>319.0</td>\n",
              "      <td>531.0</td>\n",
              "      <td>167.0</td>\n",
              "      <td>160.0</td>\n",
              "      <td>192.0</td>\n",
              "      <td>...</td>\n",
              "      <td>2.034</td>\n",
              "      <td>2.870</td>\n",
              "      <td>2.808</td>\n",
              "      <td>2.036</td>\n",
              "      <td>2.101</td>\n",
              "      <td>1.917</td>\n",
              "      <td>2.449</td>\n",
              "      <td>2.456</td>\n",
              "      <td>2.037</td>\n",
              "      <td>2.518</td>\n",
              "      <td>2.348</td>\n",
              "      <td>2.067</td>\n",
              "      <td>3.374</td>\n",
              "      <td>2.796</td>\n",
              "      <td>2.190</td>\n",
              "      <td>2.542</td>\n",
              "      <td>2.669</td>\n",
              "      <td>2.133</td>\n",
              "      <td>2.719</td>\n",
              "      <td>2.722</td>\n",
              "      <td>2.538</td>\n",
              "      <td>2.151</td>\n",
              "      <td>2.997</td>\n",
              "      <td>3.346</td>\n",
              "      <td>3.271</td>\n",
              "      <td>2.882</td>\n",
              "      <td>3.956</td>\n",
              "      <td>3.400</td>\n",
              "      <td>2.660</td>\n",
              "      <td>2.802</td>\n",
              "      <td>2.428</td>\n",
              "      <td>2.940</td>\n",
              "      <td>2.809</td>\n",
              "      <td>2.607</td>\n",
              "      <td>3.430</td>\n",
              "      <td>2.752</td>\n",
              "      <td>2.645</td>\n",
              "      <td>3.111</td>\n",
              "      <td>3.219</td>\n",
              "      <td>4.128</td>\n",
              "    </tr>\n",
              "  </tbody>\n",
              "</table>\n",
              "<p>5 rows × 1446 columns</p>\n",
              "</div>"
            ],
            "text/plain": [
              "             site  subject  ...  fsCT_R_a32pr_ROI  fsCT_R_p24_ROI\n",
              "0   ABIDEII-KKI_1    29293  ...             2.699           3.179\n",
              "1  ABIDEII-OHSU_1    28997  ...             2.746           3.324\n",
              "2    ABIDEII-GU_1    28845  ...             2.940           3.232\n",
              "3   ABIDEII-NYU_1    29210  ...             3.014           3.264\n",
              "4   ABIDEII-EMC_1    29894  ...             3.219           4.128\n",
              "\n",
              "[5 rows x 1446 columns]"
            ]
          },
          "metadata": {
            "tags": []
          },
          "execution_count": 24
        }
      ]
    },
    {
      "cell_type": "code",
      "metadata": {
        "colab": {
          "base_uri": "https://localhost:8080/"
        },
        "id": "uF0L945YynxL",
        "outputId": "1a55c847-c301-431a-e0c5-4969c928ec07"
      },
      "source": [
        "data.info()"
      ],
      "execution_count": 27,
      "outputs": [
        {
          "output_type": "stream",
          "text": [
            "<class 'pandas.core.frame.DataFrame'>\n",
            "RangeIndex: 1004 entries, 0 to 1003\n",
            "Columns: 1446 entries, site to fsCT_R_p24_ROI\n",
            "dtypes: float64(1444), int64(1), object(1)\n",
            "memory usage: 11.1+ MB\n"
          ],
          "name": "stdout"
        }
      ]
    },
    {
      "cell_type": "code",
      "metadata": {
        "colab": {
          "base_uri": "https://localhost:8080/"
        },
        "id": "_XSh8-lc4fTR",
        "outputId": "5f7b29bf-283a-4f9a-92a7-01194e27b1cf"
      },
      "source": [
        "data.info"
      ],
      "execution_count": 28,
      "outputs": [
        {
          "output_type": "execute_result",
          "data": {
            "text/plain": [
              "<bound method DataFrame.info of                 site  subject  ...  fsCT_R_a32pr_ROI  fsCT_R_p24_ROI\n",
              "0      ABIDEII-KKI_1    29293  ...             2.699           3.179\n",
              "1     ABIDEII-OHSU_1    28997  ...             2.746           3.324\n",
              "2       ABIDEII-GU_1    28845  ...             2.940           3.232\n",
              "3      ABIDEII-NYU_1    29210  ...             3.014           3.264\n",
              "4      ABIDEII-EMC_1    29894  ...             3.219           4.128\n",
              "...              ...      ...  ...               ...             ...\n",
              "999     ABIDEII-IU_1    29570  ...             2.854           3.265\n",
              "1000   ABIDEII-NYU_1    29233  ...             3.200           3.086\n",
              "1001  ABIDEII-SDSU_1    28862  ...             3.029           3.292\n",
              "1002   ABIDEII-KKI_1    29312  ...             3.076           3.114\n",
              "1003   ABIDEII-NYU_2    29164  ...             3.263           2.981\n",
              "\n",
              "[1004 rows x 1446 columns]>"
            ]
          },
          "metadata": {
            "tags": []
          },
          "execution_count": 28
        }
      ]
    },
    {
      "cell_type": "code",
      "metadata": {
        "id": "6tcKo3K3PHUu"
      },
      "source": [
        "from nilearn import datasets\n",
        "\n",
        "development_dataset = datasets.fetch_development_fmri(n_subjects=30)"
      ],
      "execution_count": null,
      "outputs": []
    },
    {
      "cell_type": "markdown",
      "metadata": {
        "id": "XyChYSoSwSd_"
      },
      "source": [
        "**nilearn** enables approachable and versatile analyses of brain volumes. It provides statistical and machine-learning tools, with instructive documentation & open community.\n",
        "It supports general linear model (GLM) based analysis and leverages the scikit-learn Python toolbox for multivariate statistics with applications such as predictive modelling, classification, decoding, or connectivity analysis."
      ]
    },
    {
      "cell_type": "code",
      "metadata": {
        "id": "Jr76TbK35WNz"
      },
      "source": [
        "development_dataset.description"
      ],
      "execution_count": null,
      "outputs": []
    },
    {
      "cell_type": "markdown",
      "metadata": {
        "id": "GLFEAs275k-I"
      },
      "source": [
        "The movie watching based brain development dataset (fMRI)\\n\\n\\nNotes\\n-----\\nThis functional MRI dataset is used for teaching how to use\\nmachine learning to predict age from naturalistic stimuli (movie)\\nwatching with Nilearn.\\n\\nThe dataset consists of 50 children (ages 3-13) and 33 young adults (ages\\n18-39). This dataset can be used to try to predict who are adults and\\nwho are children.\\n\\nThe data is downsampled to 4mm resolution for convenience. The original\\ndata is downloaded from OpenNeuro.\\n\\nFor full information about pre-processing steps on raw-fMRI data, have a look\\nat README at https://osf.io/wjtyq/\\n\\nFull pre-processed data: https://osf.io/5hju4/files/\\n\\nRaw data can be accessed from : https://openneuro.org/datasets/ds000228/versions/1.0.0\\n\\nContent\\n-------\\n    :'func': functional MRI Nifti images (4D) per subject\\n    :'confounds': TSV file contain nuisance information per subject\\n    :'phenotypic': Phenotypic informaton for each subject such as age,\\n                   age group, gender, handedness.\\n\\n\\nReferences\\n----------\\nPlease cite this paper if you are using this dataset:\\nRichardson, H., Lisandrelli, G., Riobueno-Naylor, A., & Saxe, R. (2018).\\nDevelopment of the social brain from age three to twelve years.\\nNature communications, 9(1), 1027.\\nhttps://www.nature.com/articles/s41467-018-03399-2\\n\\nLicence: usage is unrestricted for non-commercial research purposes."
      ]
    },
    {
      "cell_type": "code",
      "metadata": {
        "colab": {
          "base_uri": "https://localhost:8080/"
        },
        "id": "xvQy-SWw4oCF",
        "outputId": "b94a1497-b3a1-43ee-89f2-ac0fafbbcad8"
      },
      "source": [
        "development_dataset.phenotypic"
      ],
      "execution_count": 32,
      "outputs": [
        {
          "output_type": "execute_result",
          "data": {
            "text/plain": [
              "array([('sub-pixar123', 27.06      , 'Adult', 'adult', 'F', 'R'),\n",
              "       ('sub-pixar124', 33.44      , 'Adult', 'adult', 'M', 'R'),\n",
              "       ('sub-pixar125', 31.        , 'Adult', 'adult', 'M', 'R'),\n",
              "       ('sub-pixar126', 19.        , 'Adult', 'adult', 'F', 'R'),\n",
              "       ('sub-pixar127', 23.        , 'Adult', 'adult', 'F', 'R'),\n",
              "       ('sub-pixar128', 27.        , 'Adult', 'adult', 'M', 'R'),\n",
              "       ('sub-pixar001',  4.77481177, '4yo', 'child', 'M', 'R'),\n",
              "       ('sub-pixar002',  4.8569473 , '4yo', 'child', 'F', 'R'),\n",
              "       ('sub-pixar003',  4.15331964, '4yo', 'child', 'F', 'R'),\n",
              "       ('sub-pixar004',  4.47364819, '4yo', 'child', 'F', 'R'),\n",
              "       ('sub-pixar005',  4.83778234, '4yo', 'child', 'F', 'R'),\n",
              "       ('sub-pixar006',  3.60574949, '3yo', 'child', 'F', 'R'),\n",
              "       ('sub-pixar007',  4.24914442, '4yo', 'child', 'M', 'R'),\n",
              "       ('sub-pixar008',  3.52908966, '3yo', 'child', 'F', 'R'),\n",
              "       ('sub-pixar009',  3.51813826, '3yo', 'child', 'M', 'R'),\n",
              "       ('sub-pixar010',  4.35865845, '4yo', 'child', 'M', 'R'),\n",
              "       ('sub-pixar011',  3.9835729 , '3yo', 'child', 'F', 'R'),\n",
              "       ('sub-pixar012',  3.78644764, '3yo', 'child', 'F', 'R'),\n",
              "       ('sub-pixar013',  3.84941821, '3yo', 'child', 'M', 'R'),\n",
              "       ('sub-pixar014',  3.63586585, '3yo', 'child', 'M', 'R'),\n",
              "       ('sub-pixar015',  4.76659822, '4yo', 'child', 'F', 'R'),\n",
              "       ('sub-pixar016',  3.62217659, '3yo', 'child', 'M', 'R'),\n",
              "       ('sub-pixar017',  3.61396304, '3yo', 'child', 'F', 'L'),\n",
              "       ('sub-pixar018',  4.57768652, '4yo', 'child', 'M', 'R'),\n",
              "       ('sub-pixar019',  3.96988364, '3yo', 'child', 'M', 'R'),\n",
              "       ('sub-pixar020',  3.59479808, '3yo', 'child', 'M', 'L'),\n",
              "       ('sub-pixar021',  4.36413416, '4yo', 'child', 'F', 'R'),\n",
              "       ('sub-pixar022',  3.8220397 , '3yo', 'child', 'F', 'R'),\n",
              "       ('sub-pixar023',  3.86584531, '3yo', 'child', 'F', 'R'),\n",
              "       ('sub-pixar024',  4.05749487, '4yo', 'child', 'M', 'R')],\n",
              "      dtype=[('participant_id', '<U12'), ('Age', '<f8'), ('AgeGroup', '<U6'), ('Child_Adult', '<U5'), ('Gender', '<U4'), ('Handedness', '<U4')])"
            ]
          },
          "metadata": {
            "tags": []
          },
          "execution_count": 32
        }
      ]
    },
    {
      "cell_type": "code",
      "metadata": {
        "colab": {
          "base_uri": "https://localhost:8080/"
        },
        "id": "Vgyix_e65Gin",
        "outputId": "d9e00d4e-1d8a-462a-b5e9-a4555d28a361"
      },
      "source": [
        "development_dataset.confounds"
      ],
      "execution_count": 35,
      "outputs": [
        {
          "output_type": "execute_result",
          "data": {
            "text/plain": [
              "['/root/nilearn_data/development_fmri/development_fmri/sub-pixar123_task-pixar_desc-reducedConfounds_regressors.tsv',\n",
              " '/root/nilearn_data/development_fmri/development_fmri/sub-pixar124_task-pixar_desc-reducedConfounds_regressors.tsv',\n",
              " '/root/nilearn_data/development_fmri/development_fmri/sub-pixar125_task-pixar_desc-reducedConfounds_regressors.tsv',\n",
              " '/root/nilearn_data/development_fmri/development_fmri/sub-pixar126_task-pixar_desc-reducedConfounds_regressors.tsv',\n",
              " '/root/nilearn_data/development_fmri/development_fmri/sub-pixar127_task-pixar_desc-reducedConfounds_regressors.tsv',\n",
              " '/root/nilearn_data/development_fmri/development_fmri/sub-pixar128_task-pixar_desc-reducedConfounds_regressors.tsv',\n",
              " '/root/nilearn_data/development_fmri/development_fmri/sub-pixar001_task-pixar_desc-reducedConfounds_regressors.tsv',\n",
              " '/root/nilearn_data/development_fmri/development_fmri/sub-pixar002_task-pixar_desc-reducedConfounds_regressors.tsv',\n",
              " '/root/nilearn_data/development_fmri/development_fmri/sub-pixar003_task-pixar_desc-reducedConfounds_regressors.tsv',\n",
              " '/root/nilearn_data/development_fmri/development_fmri/sub-pixar004_task-pixar_desc-reducedConfounds_regressors.tsv',\n",
              " '/root/nilearn_data/development_fmri/development_fmri/sub-pixar005_task-pixar_desc-reducedConfounds_regressors.tsv',\n",
              " '/root/nilearn_data/development_fmri/development_fmri/sub-pixar006_task-pixar_desc-reducedConfounds_regressors.tsv',\n",
              " '/root/nilearn_data/development_fmri/development_fmri/sub-pixar007_task-pixar_desc-reducedConfounds_regressors.tsv',\n",
              " '/root/nilearn_data/development_fmri/development_fmri/sub-pixar008_task-pixar_desc-reducedConfounds_regressors.tsv',\n",
              " '/root/nilearn_data/development_fmri/development_fmri/sub-pixar009_task-pixar_desc-reducedConfounds_regressors.tsv',\n",
              " '/root/nilearn_data/development_fmri/development_fmri/sub-pixar010_task-pixar_desc-reducedConfounds_regressors.tsv',\n",
              " '/root/nilearn_data/development_fmri/development_fmri/sub-pixar011_task-pixar_desc-reducedConfounds_regressors.tsv',\n",
              " '/root/nilearn_data/development_fmri/development_fmri/sub-pixar012_task-pixar_desc-reducedConfounds_regressors.tsv',\n",
              " '/root/nilearn_data/development_fmri/development_fmri/sub-pixar013_task-pixar_desc-reducedConfounds_regressors.tsv',\n",
              " '/root/nilearn_data/development_fmri/development_fmri/sub-pixar014_task-pixar_desc-reducedConfounds_regressors.tsv',\n",
              " '/root/nilearn_data/development_fmri/development_fmri/sub-pixar015_task-pixar_desc-reducedConfounds_regressors.tsv',\n",
              " '/root/nilearn_data/development_fmri/development_fmri/sub-pixar016_task-pixar_desc-reducedConfounds_regressors.tsv',\n",
              " '/root/nilearn_data/development_fmri/development_fmri/sub-pixar017_task-pixar_desc-reducedConfounds_regressors.tsv',\n",
              " '/root/nilearn_data/development_fmri/development_fmri/sub-pixar018_task-pixar_desc-reducedConfounds_regressors.tsv',\n",
              " '/root/nilearn_data/development_fmri/development_fmri/sub-pixar019_task-pixar_desc-reducedConfounds_regressors.tsv',\n",
              " '/root/nilearn_data/development_fmri/development_fmri/sub-pixar020_task-pixar_desc-reducedConfounds_regressors.tsv',\n",
              " '/root/nilearn_data/development_fmri/development_fmri/sub-pixar021_task-pixar_desc-reducedConfounds_regressors.tsv',\n",
              " '/root/nilearn_data/development_fmri/development_fmri/sub-pixar022_task-pixar_desc-reducedConfounds_regressors.tsv',\n",
              " '/root/nilearn_data/development_fmri/development_fmri/sub-pixar023_task-pixar_desc-reducedConfounds_regressors.tsv',\n",
              " '/root/nilearn_data/development_fmri/development_fmri/sub-pixar024_task-pixar_desc-reducedConfounds_regressors.tsv']"
            ]
          },
          "metadata": {
            "tags": []
          },
          "execution_count": 35
        }
      ]
    },
    {
      "cell_type": "markdown",
      "metadata": {
        "id": "E0lVeRLcAsTl"
      },
      "source": [
        "The process of removing motion-based artifacts from our data is called confound regression, which is essentially fitting a linear model using motion estimates as regressors then subtracting it out from the signal. Hopefully in this process we get a closer estimate of what the actual brain-induced BOLD signal looks like."
      ]
    },
    {
      "cell_type": "markdown",
      "metadata": {
        "id": "pyzw_3bNx9-t"
      },
      "source": [
        "**nibabel**: Read / write access to some common neuroimaging file formats"
      ]
    },
    {
      "cell_type": "code",
      "metadata": {
        "id": "yULzyGMUPHS5",
        "colab": {
          "base_uri": "https://localhost:8080/"
        },
        "outputId": "391729d0-3595-4497-aede-7383d1265c49"
      },
      "source": [
        "import nibabel as nib\n",
        "\n",
        "img = nib.load(development_dataset.func[0])\n",
        "img.shape"
      ],
      "execution_count": 23,
      "outputs": [
        {
          "output_type": "execute_result",
          "data": {
            "text/plain": [
              "(50, 59, 50, 168)"
            ]
          },
          "metadata": {
            "tags": []
          },
          "execution_count": 23
        }
      ]
    },
    {
      "cell_type": "code",
      "metadata": {
        "id": "SZZD3CrnPHPZ",
        "colab": {
          "base_uri": "https://localhost:8080/"
        },
        "outputId": "b9d0814a-9723-49e6-bcf1-d27aa2da9bc6"
      },
      "source": [
        "img.instance_to_filename"
      ],
      "execution_count": 37,
      "outputs": [
        {
          "output_type": "execute_result",
          "data": {
            "text/plain": [
              "<bound method FileBasedImage.instance_to_filename of <class 'nibabel.nifti1.Nifti1Image'>>"
            ]
          },
          "metadata": {
            "tags": []
          },
          "execution_count": 37
        }
      ]
    },
    {
      "cell_type": "code",
      "metadata": {
        "id": "5s_YYCuZPHMH",
        "colab": {
          "base_uri": "https://localhost:8080/"
        },
        "outputId": "5f47a32c-1f0e-4f73-ffb4-d244a1c31b79"
      },
      "source": [
        "img.files_types"
      ],
      "execution_count": 40,
      "outputs": [
        {
          "output_type": "execute_result",
          "data": {
            "text/plain": [
              "(('image', '.nii'),)"
            ]
          },
          "metadata": {
            "tags": []
          },
          "execution_count": 40
        }
      ]
    },
    {
      "cell_type": "code",
      "metadata": {
        "id": "5anNMdjAPHJK"
      },
      "source": [
        ""
      ],
      "execution_count": null,
      "outputs": []
    },
    {
      "cell_type": "code",
      "metadata": {
        "id": "00LScNEkPHGG"
      },
      "source": [
        ""
      ],
      "execution_count": null,
      "outputs": []
    },
    {
      "cell_type": "code",
      "metadata": {
        "id": "bOZ3iaAwPHDE"
      },
      "source": [
        ""
      ],
      "execution_count": null,
      "outputs": []
    },
    {
      "cell_type": "code",
      "metadata": {
        "id": "UBIcnt-sPHAR"
      },
      "source": [
        ""
      ],
      "execution_count": null,
      "outputs": []
    },
    {
      "cell_type": "code",
      "metadata": {
        "id": "W6eCEodPPG9A"
      },
      "source": [
        ""
      ],
      "execution_count": null,
      "outputs": []
    },
    {
      "cell_type": "code",
      "metadata": {
        "id": "YvlC8cSxPG55"
      },
      "source": [
        ""
      ],
      "execution_count": null,
      "outputs": []
    },
    {
      "cell_type": "code",
      "metadata": {
        "id": "-5nGzygOPG3J"
      },
      "source": [
        ""
      ],
      "execution_count": null,
      "outputs": []
    },
    {
      "cell_type": "code",
      "metadata": {
        "id": "-Tb9GjgKPG0P"
      },
      "source": [
        ""
      ],
      "execution_count": null,
      "outputs": []
    },
    {
      "cell_type": "code",
      "metadata": {
        "id": "Yd1j58fGPGxO"
      },
      "source": [
        ""
      ],
      "execution_count": null,
      "outputs": []
    },
    {
      "cell_type": "code",
      "metadata": {
        "id": "XvtWVWqLPGrk"
      },
      "source": [
        ""
      ],
      "execution_count": null,
      "outputs": []
    },
    {
      "cell_type": "code",
      "metadata": {
        "id": "63WyD2qrPGhZ"
      },
      "source": [
        ""
      ],
      "execution_count": null,
      "outputs": []
    }
  ]
}