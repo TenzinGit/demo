{
  "nbformat": 4,
  "nbformat_minor": 0,
  "metadata": {
    "colab": {
      "name": "kfold.ipynb",
      "provenance": [],
      "collapsed_sections": []
    },
    "kernelspec": {
      "name": "python3",
      "display_name": "Python 3"
    }
  },
  "cells": [
    {
      "cell_type": "code",
      "metadata": {
        "id": "jDAw9IX-tB32"
      },
      "source": [
        "import pandas as pd\n",
        "import numpy as np\n",
        "import time\n",
        "from sklearn.model_selection import KFold, StratifiedKFold, cross_val_score, LeaveOneOut, RepeatedKFold, RepeatedStratifiedKFold\n",
        "from sklearn.preprocessing import OneHotEncoder, RobustScaler\n",
        "from sklearn.compose import ColumnTransformer\n",
        "from sklearn.pipeline import Pipeline\n",
        "from sklearn.ensemble import RandomForestClassifier"
      ],
      "execution_count": 51,
      "outputs": []
    },
    {
      "cell_type": "code",
      "metadata": {
        "colab": {
          "base_uri": "https://localhost:8080/",
          "height": 600
        },
        "id": "DIWnEPTptJT9",
        "outputId": "7f867538-969d-498e-b15e-3b88eb6ce728"
      },
      "source": [
        "df = pd.read_csv('income_evaluation.txt', na_values='?')\n",
        "df.head(10)"
      ],
      "execution_count": 4,
      "outputs": [
        {
          "output_type": "execute_result",
          "data": {
            "text/html": [
              "<div>\n",
              "<style scoped>\n",
              "    .dataframe tbody tr th:only-of-type {\n",
              "        vertical-align: middle;\n",
              "    }\n",
              "\n",
              "    .dataframe tbody tr th {\n",
              "        vertical-align: top;\n",
              "    }\n",
              "\n",
              "    .dataframe thead th {\n",
              "        text-align: right;\n",
              "    }\n",
              "</style>\n",
              "<table border=\"1\" class=\"dataframe\">\n",
              "  <thead>\n",
              "    <tr style=\"text-align: right;\">\n",
              "      <th></th>\n",
              "      <th>age</th>\n",
              "      <th>workclass</th>\n",
              "      <th>fnlwgt</th>\n",
              "      <th>education</th>\n",
              "      <th>education-num</th>\n",
              "      <th>marital-status</th>\n",
              "      <th>occupation</th>\n",
              "      <th>relationship</th>\n",
              "      <th>race</th>\n",
              "      <th>sex</th>\n",
              "      <th>capital-gain</th>\n",
              "      <th>capital-loss</th>\n",
              "      <th>hours-per-week</th>\n",
              "      <th>native-country</th>\n",
              "      <th>income</th>\n",
              "    </tr>\n",
              "  </thead>\n",
              "  <tbody>\n",
              "    <tr>\n",
              "      <th>0</th>\n",
              "      <td>39</td>\n",
              "      <td>State-gov</td>\n",
              "      <td>77516</td>\n",
              "      <td>Bachelors</td>\n",
              "      <td>13</td>\n",
              "      <td>Never-married</td>\n",
              "      <td>Adm-clerical</td>\n",
              "      <td>Not-in-family</td>\n",
              "      <td>White</td>\n",
              "      <td>Male</td>\n",
              "      <td>2174</td>\n",
              "      <td>0</td>\n",
              "      <td>40</td>\n",
              "      <td>United-States</td>\n",
              "      <td>&lt;=50K</td>\n",
              "    </tr>\n",
              "    <tr>\n",
              "      <th>1</th>\n",
              "      <td>50</td>\n",
              "      <td>Self-emp-not-inc</td>\n",
              "      <td>83311</td>\n",
              "      <td>Bachelors</td>\n",
              "      <td>13</td>\n",
              "      <td>Married-civ-spouse</td>\n",
              "      <td>Exec-managerial</td>\n",
              "      <td>Husband</td>\n",
              "      <td>White</td>\n",
              "      <td>Male</td>\n",
              "      <td>0</td>\n",
              "      <td>0</td>\n",
              "      <td>13</td>\n",
              "      <td>United-States</td>\n",
              "      <td>&lt;=50K</td>\n",
              "    </tr>\n",
              "    <tr>\n",
              "      <th>2</th>\n",
              "      <td>38</td>\n",
              "      <td>Private</td>\n",
              "      <td>215646</td>\n",
              "      <td>HS-grad</td>\n",
              "      <td>9</td>\n",
              "      <td>Divorced</td>\n",
              "      <td>Handlers-cleaners</td>\n",
              "      <td>Not-in-family</td>\n",
              "      <td>White</td>\n",
              "      <td>Male</td>\n",
              "      <td>0</td>\n",
              "      <td>0</td>\n",
              "      <td>40</td>\n",
              "      <td>United-States</td>\n",
              "      <td>&lt;=50K</td>\n",
              "    </tr>\n",
              "    <tr>\n",
              "      <th>3</th>\n",
              "      <td>53</td>\n",
              "      <td>Private</td>\n",
              "      <td>234721</td>\n",
              "      <td>11th</td>\n",
              "      <td>7</td>\n",
              "      <td>Married-civ-spouse</td>\n",
              "      <td>Handlers-cleaners</td>\n",
              "      <td>Husband</td>\n",
              "      <td>Black</td>\n",
              "      <td>Male</td>\n",
              "      <td>0</td>\n",
              "      <td>0</td>\n",
              "      <td>40</td>\n",
              "      <td>United-States</td>\n",
              "      <td>&lt;=50K</td>\n",
              "    </tr>\n",
              "    <tr>\n",
              "      <th>4</th>\n",
              "      <td>28</td>\n",
              "      <td>Private</td>\n",
              "      <td>338409</td>\n",
              "      <td>Bachelors</td>\n",
              "      <td>13</td>\n",
              "      <td>Married-civ-spouse</td>\n",
              "      <td>Prof-specialty</td>\n",
              "      <td>Wife</td>\n",
              "      <td>Black</td>\n",
              "      <td>Female</td>\n",
              "      <td>0</td>\n",
              "      <td>0</td>\n",
              "      <td>40</td>\n",
              "      <td>Cuba</td>\n",
              "      <td>&lt;=50K</td>\n",
              "    </tr>\n",
              "    <tr>\n",
              "      <th>5</th>\n",
              "      <td>37</td>\n",
              "      <td>Private</td>\n",
              "      <td>284582</td>\n",
              "      <td>Masters</td>\n",
              "      <td>14</td>\n",
              "      <td>Married-civ-spouse</td>\n",
              "      <td>Exec-managerial</td>\n",
              "      <td>Wife</td>\n",
              "      <td>White</td>\n",
              "      <td>Female</td>\n",
              "      <td>0</td>\n",
              "      <td>0</td>\n",
              "      <td>40</td>\n",
              "      <td>United-States</td>\n",
              "      <td>&lt;=50K</td>\n",
              "    </tr>\n",
              "    <tr>\n",
              "      <th>6</th>\n",
              "      <td>49</td>\n",
              "      <td>Private</td>\n",
              "      <td>160187</td>\n",
              "      <td>9th</td>\n",
              "      <td>5</td>\n",
              "      <td>Married-spouse-absent</td>\n",
              "      <td>Other-service</td>\n",
              "      <td>Not-in-family</td>\n",
              "      <td>Black</td>\n",
              "      <td>Female</td>\n",
              "      <td>0</td>\n",
              "      <td>0</td>\n",
              "      <td>16</td>\n",
              "      <td>Jamaica</td>\n",
              "      <td>&lt;=50K</td>\n",
              "    </tr>\n",
              "    <tr>\n",
              "      <th>7</th>\n",
              "      <td>52</td>\n",
              "      <td>Self-emp-not-inc</td>\n",
              "      <td>209642</td>\n",
              "      <td>HS-grad</td>\n",
              "      <td>9</td>\n",
              "      <td>Married-civ-spouse</td>\n",
              "      <td>Exec-managerial</td>\n",
              "      <td>Husband</td>\n",
              "      <td>White</td>\n",
              "      <td>Male</td>\n",
              "      <td>0</td>\n",
              "      <td>0</td>\n",
              "      <td>45</td>\n",
              "      <td>United-States</td>\n",
              "      <td>&gt;50K</td>\n",
              "    </tr>\n",
              "    <tr>\n",
              "      <th>8</th>\n",
              "      <td>31</td>\n",
              "      <td>Private</td>\n",
              "      <td>45781</td>\n",
              "      <td>Masters</td>\n",
              "      <td>14</td>\n",
              "      <td>Never-married</td>\n",
              "      <td>Prof-specialty</td>\n",
              "      <td>Not-in-family</td>\n",
              "      <td>White</td>\n",
              "      <td>Female</td>\n",
              "      <td>14084</td>\n",
              "      <td>0</td>\n",
              "      <td>50</td>\n",
              "      <td>United-States</td>\n",
              "      <td>&gt;50K</td>\n",
              "    </tr>\n",
              "    <tr>\n",
              "      <th>9</th>\n",
              "      <td>42</td>\n",
              "      <td>Private</td>\n",
              "      <td>159449</td>\n",
              "      <td>Bachelors</td>\n",
              "      <td>13</td>\n",
              "      <td>Married-civ-spouse</td>\n",
              "      <td>Exec-managerial</td>\n",
              "      <td>Husband</td>\n",
              "      <td>White</td>\n",
              "      <td>Male</td>\n",
              "      <td>5178</td>\n",
              "      <td>0</td>\n",
              "      <td>40</td>\n",
              "      <td>United-States</td>\n",
              "      <td>&gt;50K</td>\n",
              "    </tr>\n",
              "  </tbody>\n",
              "</table>\n",
              "</div>"
            ],
            "text/plain": [
              "   age          workclass   fnlwgt  ...  hours-per-week   native-country  income\n",
              "0   39          State-gov    77516  ...              40    United-States   <=50K\n",
              "1   50   Self-emp-not-inc    83311  ...              13    United-States   <=50K\n",
              "2   38            Private   215646  ...              40    United-States   <=50K\n",
              "3   53            Private   234721  ...              40    United-States   <=50K\n",
              "4   28            Private   338409  ...              40             Cuba   <=50K\n",
              "5   37            Private   284582  ...              40    United-States   <=50K\n",
              "6   49            Private   160187  ...              16          Jamaica   <=50K\n",
              "7   52   Self-emp-not-inc   209642  ...              45    United-States    >50K\n",
              "8   31            Private    45781  ...              50    United-States    >50K\n",
              "9   42            Private   159449  ...              40    United-States    >50K\n",
              "\n",
              "[10 rows x 15 columns]"
            ]
          },
          "metadata": {
            "tags": []
          },
          "execution_count": 4
        }
      ]
    },
    {
      "cell_type": "code",
      "metadata": {
        "colab": {
          "base_uri": "https://localhost:8080/"
        },
        "id": "f9DPdyE64BCg",
        "outputId": "b2d8714b-40d8-46a1-a3c1-5b70a6083f61"
      },
      "source": [
        "df.isna().sum()"
      ],
      "execution_count": 5,
      "outputs": [
        {
          "output_type": "execute_result",
          "data": {
            "text/plain": [
              "age                0\n",
              " workclass         0\n",
              " fnlwgt            0\n",
              " education         0\n",
              " education-num     0\n",
              " marital-status    0\n",
              " occupation        0\n",
              " relationship      0\n",
              " race              0\n",
              " sex               0\n",
              " capital-gain      0\n",
              " capital-loss      0\n",
              " hours-per-week    0\n",
              " native-country    0\n",
              " income            0\n",
              "dtype: int64"
            ]
          },
          "metadata": {
            "tags": []
          },
          "execution_count": 5
        }
      ]
    },
    {
      "cell_type": "code",
      "metadata": {
        "id": "IzjCmbO_4UMj"
      },
      "source": [
        "df.fillna('missing', inplace=True)"
      ],
      "execution_count": 6,
      "outputs": []
    },
    {
      "cell_type": "code",
      "metadata": {
        "colab": {
          "base_uri": "https://localhost:8080/"
        },
        "id": "8OAj67bk4hvl",
        "outputId": "41f92c6a-135f-426a-e8be-055f1e19498c"
      },
      "source": [
        "df.isna().sum()"
      ],
      "execution_count": 7,
      "outputs": [
        {
          "output_type": "execute_result",
          "data": {
            "text/plain": [
              "age                0\n",
              " workclass         0\n",
              " fnlwgt            0\n",
              " education         0\n",
              " education-num     0\n",
              " marital-status    0\n",
              " occupation        0\n",
              " relationship      0\n",
              " race              0\n",
              " sex               0\n",
              " capital-gain      0\n",
              " capital-loss      0\n",
              " hours-per-week    0\n",
              " native-country    0\n",
              " income            0\n",
              "dtype: int64"
            ]
          },
          "metadata": {
            "tags": []
          },
          "execution_count": 7
        }
      ]
    },
    {
      "cell_type": "code",
      "metadata": {
        "id": "KMG83_N74uoQ"
      },
      "source": [
        "X = df.drop(' income', axis=1)\n",
        "y = df[' income']"
      ],
      "execution_count": 8,
      "outputs": []
    },
    {
      "cell_type": "code",
      "metadata": {
        "colab": {
          "base_uri": "https://localhost:8080/"
        },
        "id": "vu7MhCx35Zot",
        "outputId": "d7e1e438-4b1a-4ec4-8864-c882d50e15a3"
      },
      "source": [
        "X.shape"
      ],
      "execution_count": 9,
      "outputs": [
        {
          "output_type": "execute_result",
          "data": {
            "text/plain": [
              "(32561, 14)"
            ]
          },
          "metadata": {
            "tags": []
          },
          "execution_count": 9
        }
      ]
    },
    {
      "cell_type": "code",
      "metadata": {
        "colab": {
          "base_uri": "https://localhost:8080/"
        },
        "id": "BnEdd53s8EHZ",
        "outputId": "7e2f01da-e9e0-48d1-fdcc-949eead0e1be"
      },
      "source": [
        "y.value_counts()"
      ],
      "execution_count": 10,
      "outputs": [
        {
          "output_type": "execute_result",
          "data": {
            "text/plain": [
              " <=50K    24720\n",
              " >50K      7841\n",
              "Name:  income, dtype: int64"
            ]
          },
          "metadata": {
            "tags": []
          },
          "execution_count": 10
        }
      ]
    },
    {
      "cell_type": "code",
      "metadata": {
        "id": "TvthgojcDPy_",
        "colab": {
          "base_uri": "https://localhost:8080/",
          "height": 419
        },
        "outputId": "5224f850-0caa-4eef-f9e7-89ca698fb578"
      },
      "source": [
        "num_cols = X.select_dtypes(include=np.number)\n",
        "num_cols"
      ],
      "execution_count": 11,
      "outputs": [
        {
          "output_type": "execute_result",
          "data": {
            "text/html": [
              "<div>\n",
              "<style scoped>\n",
              "    .dataframe tbody tr th:only-of-type {\n",
              "        vertical-align: middle;\n",
              "    }\n",
              "\n",
              "    .dataframe tbody tr th {\n",
              "        vertical-align: top;\n",
              "    }\n",
              "\n",
              "    .dataframe thead th {\n",
              "        text-align: right;\n",
              "    }\n",
              "</style>\n",
              "<table border=\"1\" class=\"dataframe\">\n",
              "  <thead>\n",
              "    <tr style=\"text-align: right;\">\n",
              "      <th></th>\n",
              "      <th>age</th>\n",
              "      <th>fnlwgt</th>\n",
              "      <th>education-num</th>\n",
              "      <th>capital-gain</th>\n",
              "      <th>capital-loss</th>\n",
              "      <th>hours-per-week</th>\n",
              "    </tr>\n",
              "  </thead>\n",
              "  <tbody>\n",
              "    <tr>\n",
              "      <th>0</th>\n",
              "      <td>39</td>\n",
              "      <td>77516</td>\n",
              "      <td>13</td>\n",
              "      <td>2174</td>\n",
              "      <td>0</td>\n",
              "      <td>40</td>\n",
              "    </tr>\n",
              "    <tr>\n",
              "      <th>1</th>\n",
              "      <td>50</td>\n",
              "      <td>83311</td>\n",
              "      <td>13</td>\n",
              "      <td>0</td>\n",
              "      <td>0</td>\n",
              "      <td>13</td>\n",
              "    </tr>\n",
              "    <tr>\n",
              "      <th>2</th>\n",
              "      <td>38</td>\n",
              "      <td>215646</td>\n",
              "      <td>9</td>\n",
              "      <td>0</td>\n",
              "      <td>0</td>\n",
              "      <td>40</td>\n",
              "    </tr>\n",
              "    <tr>\n",
              "      <th>3</th>\n",
              "      <td>53</td>\n",
              "      <td>234721</td>\n",
              "      <td>7</td>\n",
              "      <td>0</td>\n",
              "      <td>0</td>\n",
              "      <td>40</td>\n",
              "    </tr>\n",
              "    <tr>\n",
              "      <th>4</th>\n",
              "      <td>28</td>\n",
              "      <td>338409</td>\n",
              "      <td>13</td>\n",
              "      <td>0</td>\n",
              "      <td>0</td>\n",
              "      <td>40</td>\n",
              "    </tr>\n",
              "    <tr>\n",
              "      <th>...</th>\n",
              "      <td>...</td>\n",
              "      <td>...</td>\n",
              "      <td>...</td>\n",
              "      <td>...</td>\n",
              "      <td>...</td>\n",
              "      <td>...</td>\n",
              "    </tr>\n",
              "    <tr>\n",
              "      <th>32556</th>\n",
              "      <td>27</td>\n",
              "      <td>257302</td>\n",
              "      <td>12</td>\n",
              "      <td>0</td>\n",
              "      <td>0</td>\n",
              "      <td>38</td>\n",
              "    </tr>\n",
              "    <tr>\n",
              "      <th>32557</th>\n",
              "      <td>40</td>\n",
              "      <td>154374</td>\n",
              "      <td>9</td>\n",
              "      <td>0</td>\n",
              "      <td>0</td>\n",
              "      <td>40</td>\n",
              "    </tr>\n",
              "    <tr>\n",
              "      <th>32558</th>\n",
              "      <td>58</td>\n",
              "      <td>151910</td>\n",
              "      <td>9</td>\n",
              "      <td>0</td>\n",
              "      <td>0</td>\n",
              "      <td>40</td>\n",
              "    </tr>\n",
              "    <tr>\n",
              "      <th>32559</th>\n",
              "      <td>22</td>\n",
              "      <td>201490</td>\n",
              "      <td>9</td>\n",
              "      <td>0</td>\n",
              "      <td>0</td>\n",
              "      <td>20</td>\n",
              "    </tr>\n",
              "    <tr>\n",
              "      <th>32560</th>\n",
              "      <td>52</td>\n",
              "      <td>287927</td>\n",
              "      <td>9</td>\n",
              "      <td>15024</td>\n",
              "      <td>0</td>\n",
              "      <td>40</td>\n",
              "    </tr>\n",
              "  </tbody>\n",
              "</table>\n",
              "<p>32561 rows × 6 columns</p>\n",
              "</div>"
            ],
            "text/plain": [
              "       age   fnlwgt  ...   capital-loss   hours-per-week\n",
              "0       39    77516  ...              0               40\n",
              "1       50    83311  ...              0               13\n",
              "2       38   215646  ...              0               40\n",
              "3       53   234721  ...              0               40\n",
              "4       28   338409  ...              0               40\n",
              "...    ...      ...  ...            ...              ...\n",
              "32556   27   257302  ...              0               38\n",
              "32557   40   154374  ...              0               40\n",
              "32558   58   151910  ...              0               40\n",
              "32559   22   201490  ...              0               20\n",
              "32560   52   287927  ...              0               40\n",
              "\n",
              "[32561 rows x 6 columns]"
            ]
          },
          "metadata": {
            "tags": []
          },
          "execution_count": 11
        }
      ]
    },
    {
      "cell_type": "code",
      "metadata": {
        "colab": {
          "base_uri": "https://localhost:8080/"
        },
        "id": "5k0ane5EDPuX",
        "outputId": "df5b0a52-7208-4cba-febf-2839775d0797"
      },
      "source": [
        "num_cols = X.select_dtypes(include=np.number).columns\n",
        "num_cols"
      ],
      "execution_count": 12,
      "outputs": [
        {
          "output_type": "execute_result",
          "data": {
            "text/plain": [
              "Index(['age', ' fnlwgt', ' education-num', ' capital-gain', ' capital-loss',\n",
              "       ' hours-per-week'],\n",
              "      dtype='object')"
            ]
          },
          "metadata": {
            "tags": []
          },
          "execution_count": 12
        }
      ]
    },
    {
      "cell_type": "code",
      "metadata": {
        "id": "ikEtuyn1DPp3",
        "colab": {
          "base_uri": "https://localhost:8080/",
          "height": 419
        },
        "outputId": "cda6f235-5963-4b5f-9c39-68bb61102029"
      },
      "source": [
        "cat_cols = X.select_dtypes(exclude=np.number)\n",
        "cat_cols"
      ],
      "execution_count": 13,
      "outputs": [
        {
          "output_type": "execute_result",
          "data": {
            "text/html": [
              "<div>\n",
              "<style scoped>\n",
              "    .dataframe tbody tr th:only-of-type {\n",
              "        vertical-align: middle;\n",
              "    }\n",
              "\n",
              "    .dataframe tbody tr th {\n",
              "        vertical-align: top;\n",
              "    }\n",
              "\n",
              "    .dataframe thead th {\n",
              "        text-align: right;\n",
              "    }\n",
              "</style>\n",
              "<table border=\"1\" class=\"dataframe\">\n",
              "  <thead>\n",
              "    <tr style=\"text-align: right;\">\n",
              "      <th></th>\n",
              "      <th>workclass</th>\n",
              "      <th>education</th>\n",
              "      <th>marital-status</th>\n",
              "      <th>occupation</th>\n",
              "      <th>relationship</th>\n",
              "      <th>race</th>\n",
              "      <th>sex</th>\n",
              "      <th>native-country</th>\n",
              "    </tr>\n",
              "  </thead>\n",
              "  <tbody>\n",
              "    <tr>\n",
              "      <th>0</th>\n",
              "      <td>State-gov</td>\n",
              "      <td>Bachelors</td>\n",
              "      <td>Never-married</td>\n",
              "      <td>Adm-clerical</td>\n",
              "      <td>Not-in-family</td>\n",
              "      <td>White</td>\n",
              "      <td>Male</td>\n",
              "      <td>United-States</td>\n",
              "    </tr>\n",
              "    <tr>\n",
              "      <th>1</th>\n",
              "      <td>Self-emp-not-inc</td>\n",
              "      <td>Bachelors</td>\n",
              "      <td>Married-civ-spouse</td>\n",
              "      <td>Exec-managerial</td>\n",
              "      <td>Husband</td>\n",
              "      <td>White</td>\n",
              "      <td>Male</td>\n",
              "      <td>United-States</td>\n",
              "    </tr>\n",
              "    <tr>\n",
              "      <th>2</th>\n",
              "      <td>Private</td>\n",
              "      <td>HS-grad</td>\n",
              "      <td>Divorced</td>\n",
              "      <td>Handlers-cleaners</td>\n",
              "      <td>Not-in-family</td>\n",
              "      <td>White</td>\n",
              "      <td>Male</td>\n",
              "      <td>United-States</td>\n",
              "    </tr>\n",
              "    <tr>\n",
              "      <th>3</th>\n",
              "      <td>Private</td>\n",
              "      <td>11th</td>\n",
              "      <td>Married-civ-spouse</td>\n",
              "      <td>Handlers-cleaners</td>\n",
              "      <td>Husband</td>\n",
              "      <td>Black</td>\n",
              "      <td>Male</td>\n",
              "      <td>United-States</td>\n",
              "    </tr>\n",
              "    <tr>\n",
              "      <th>4</th>\n",
              "      <td>Private</td>\n",
              "      <td>Bachelors</td>\n",
              "      <td>Married-civ-spouse</td>\n",
              "      <td>Prof-specialty</td>\n",
              "      <td>Wife</td>\n",
              "      <td>Black</td>\n",
              "      <td>Female</td>\n",
              "      <td>Cuba</td>\n",
              "    </tr>\n",
              "    <tr>\n",
              "      <th>...</th>\n",
              "      <td>...</td>\n",
              "      <td>...</td>\n",
              "      <td>...</td>\n",
              "      <td>...</td>\n",
              "      <td>...</td>\n",
              "      <td>...</td>\n",
              "      <td>...</td>\n",
              "      <td>...</td>\n",
              "    </tr>\n",
              "    <tr>\n",
              "      <th>32556</th>\n",
              "      <td>Private</td>\n",
              "      <td>Assoc-acdm</td>\n",
              "      <td>Married-civ-spouse</td>\n",
              "      <td>Tech-support</td>\n",
              "      <td>Wife</td>\n",
              "      <td>White</td>\n",
              "      <td>Female</td>\n",
              "      <td>United-States</td>\n",
              "    </tr>\n",
              "    <tr>\n",
              "      <th>32557</th>\n",
              "      <td>Private</td>\n",
              "      <td>HS-grad</td>\n",
              "      <td>Married-civ-spouse</td>\n",
              "      <td>Machine-op-inspct</td>\n",
              "      <td>Husband</td>\n",
              "      <td>White</td>\n",
              "      <td>Male</td>\n",
              "      <td>United-States</td>\n",
              "    </tr>\n",
              "    <tr>\n",
              "      <th>32558</th>\n",
              "      <td>Private</td>\n",
              "      <td>HS-grad</td>\n",
              "      <td>Widowed</td>\n",
              "      <td>Adm-clerical</td>\n",
              "      <td>Unmarried</td>\n",
              "      <td>White</td>\n",
              "      <td>Female</td>\n",
              "      <td>United-States</td>\n",
              "    </tr>\n",
              "    <tr>\n",
              "      <th>32559</th>\n",
              "      <td>Private</td>\n",
              "      <td>HS-grad</td>\n",
              "      <td>Never-married</td>\n",
              "      <td>Adm-clerical</td>\n",
              "      <td>Own-child</td>\n",
              "      <td>White</td>\n",
              "      <td>Male</td>\n",
              "      <td>United-States</td>\n",
              "    </tr>\n",
              "    <tr>\n",
              "      <th>32560</th>\n",
              "      <td>Self-emp-inc</td>\n",
              "      <td>HS-grad</td>\n",
              "      <td>Married-civ-spouse</td>\n",
              "      <td>Exec-managerial</td>\n",
              "      <td>Wife</td>\n",
              "      <td>White</td>\n",
              "      <td>Female</td>\n",
              "      <td>United-States</td>\n",
              "    </tr>\n",
              "  </tbody>\n",
              "</table>\n",
              "<p>32561 rows × 8 columns</p>\n",
              "</div>"
            ],
            "text/plain": [
              "               workclass    education  ...      sex  native-country\n",
              "0              State-gov    Bachelors  ...     Male   United-States\n",
              "1       Self-emp-not-inc    Bachelors  ...     Male   United-States\n",
              "2                Private      HS-grad  ...     Male   United-States\n",
              "3                Private         11th  ...     Male   United-States\n",
              "4                Private    Bachelors  ...   Female            Cuba\n",
              "...                  ...          ...  ...      ...             ...\n",
              "32556            Private   Assoc-acdm  ...   Female   United-States\n",
              "32557            Private      HS-grad  ...     Male   United-States\n",
              "32558            Private      HS-grad  ...   Female   United-States\n",
              "32559            Private      HS-grad  ...     Male   United-States\n",
              "32560       Self-emp-inc      HS-grad  ...   Female   United-States\n",
              "\n",
              "[32561 rows x 8 columns]"
            ]
          },
          "metadata": {
            "tags": []
          },
          "execution_count": 13
        }
      ]
    },
    {
      "cell_type": "code",
      "metadata": {
        "colab": {
          "base_uri": "https://localhost:8080/"
        },
        "id": "uTSY4kjbEGVU",
        "outputId": "cf6aa7f5-e788-4593-d1f6-2c0a90a40cb8"
      },
      "source": [
        "cat_cols = X.select_dtypes(exclude=np.number).columns\n",
        "cat_cols"
      ],
      "execution_count": 14,
      "outputs": [
        {
          "output_type": "execute_result",
          "data": {
            "text/plain": [
              "Index([' workclass', ' education', ' marital-status', ' occupation',\n",
              "       ' relationship', ' race', ' sex', ' native-country'],\n",
              "      dtype='object')"
            ]
          },
          "metadata": {
            "tags": []
          },
          "execution_count": 14
        }
      ]
    },
    {
      "cell_type": "code",
      "metadata": {
        "id": "zbFmgMz8EJOL"
      },
      "source": [
        "ct = ColumnTransformer([\n",
        "                        ('rob', RobustScaler(), num_cols),\n",
        "                        ('ohe', OneHotEncoder(sparse=False, handle_unknown='ignore'), cat_cols)\n",
        "])"
      ],
      "execution_count": 15,
      "outputs": []
    },
    {
      "cell_type": "code",
      "metadata": {
        "id": "qd0Hwui_Ey2J"
      },
      "source": [
        "pipe = Pipeline([\n",
        "                 ('ct_step', ct),\n",
        "                 ('model', RandomForestClassifier(n_estimators=10, random_state=0))\n",
        "])"
      ],
      "execution_count": 16,
      "outputs": []
    },
    {
      "cell_type": "markdown",
      "metadata": {
        "id": "n45wTtZK8n_P"
      },
      "source": [
        "##KFold"
      ]
    },
    {
      "cell_type": "code",
      "metadata": {
        "id": "sJo0yrjwmQZi"
      },
      "source": [
        "kf = KFold(n_splits=5, shuffle=False, random_state=None)"
      ],
      "execution_count": 17,
      "outputs": []
    },
    {
      "cell_type": "code",
      "metadata": {
        "colab": {
          "base_uri": "https://localhost:8080/"
        },
        "id": "7qqcCNR2tPBY",
        "outputId": "3f01b93f-ed7d-449a-a998-f47d3dcb5535"
      },
      "source": [
        "i = 1\n",
        "for train, val in kf.split(X):\n",
        "  print(\"iteration\", i)\n",
        "  print(train, \"train fold:\", len(train))\n",
        "  print(val, \"val fold:\", len(val))\n",
        "  print(\"........................\")\n",
        "  i += 1\n"
      ],
      "execution_count": 18,
      "outputs": [
        {
          "output_type": "stream",
          "text": [
            "iteration 1\n",
            "[ 6513  6514  6515 ... 32558 32559 32560] train fold: 26048\n",
            "[   0    1    2 ... 6510 6511 6512] val fold: 6513\n",
            "........................\n",
            "iteration 2\n",
            "[    0     1     2 ... 32558 32559 32560] train fold: 26049\n",
            "[ 6513  6514  6515 ... 13022 13023 13024] val fold: 6512\n",
            "........................\n",
            "iteration 3\n",
            "[    0     1     2 ... 32558 32559 32560] train fold: 26049\n",
            "[13025 13026 13027 ... 19534 19535 19536] val fold: 6512\n",
            "........................\n",
            "iteration 4\n",
            "[    0     1     2 ... 32558 32559 32560] train fold: 26049\n",
            "[19537 19538 19539 ... 26046 26047 26048] val fold: 6512\n",
            "........................\n",
            "iteration 5\n",
            "[    0     1     2 ... 26046 26047 26048] train fold: 26049\n",
            "[26049 26050 26051 ... 32558 32559 32560] val fold: 6512\n",
            "........................\n"
          ],
          "name": "stdout"
        }
      ]
    },
    {
      "cell_type": "code",
      "metadata": {
        "colab": {
          "base_uri": "https://localhost:8080/"
        },
        "id": "5Bv7WkeqGchC",
        "outputId": "af503c91-1900-4d91-8f6f-8c3c2d41cb58"
      },
      "source": [
        "scores_kf = []\n",
        "i = 1\n",
        "for train, val in kf.split(X):\n",
        "  pipe.fit(X.loc[train], y[train])\n",
        "  sco = pipe.score(X.loc[val], y[val])\n",
        "  scores_kf.append(sco)\n",
        "  print(\"intiration\", i)\n",
        "  print(\"train len\", len(train))\n",
        "  print(\"val len\", len(val))\n",
        "  i += 1"
      ],
      "execution_count": 68,
      "outputs": [
        {
          "output_type": "stream",
          "text": [
            "intiration 1\n",
            "train len 26048\n",
            "val len 6513\n",
            "intiration 2\n",
            "train len 26049\n",
            "val len 6512\n",
            "intiration 3\n",
            "train len 26049\n",
            "val len 6512\n",
            "intiration 4\n",
            "train len 26049\n",
            "val len 6512\n",
            "intiration 5\n",
            "train len 26049\n",
            "val len 6512\n"
          ],
          "name": "stdout"
        }
      ]
    },
    {
      "cell_type": "code",
      "metadata": {
        "colab": {
          "base_uri": "https://localhost:8080/"
        },
        "id": "30ZnT47zHImA",
        "outputId": "3c22ba30-84c3-480f-cc57-ac889528707e"
      },
      "source": [
        "scores_kf"
      ],
      "execution_count": 69,
      "outputs": [
        {
          "output_type": "execute_result",
          "data": {
            "text/plain": [
              "[0.8481498541378781,\n",
              " 0.8445945945945946,\n",
              " 0.8468980343980343,\n",
              " 0.8487407862407862,\n",
              " 0.8493550368550369]"
            ]
          },
          "metadata": {
            "tags": []
          },
          "execution_count": 69
        }
      ]
    },
    {
      "cell_type": "code",
      "metadata": {
        "colab": {
          "base_uri": "https://localhost:8080/"
        },
        "id": "lRaRNUITHKrq",
        "outputId": "d96571a8-530c-487a-a171-e16e57532d4c"
      },
      "source": [
        "np.array(scores_kf)"
      ],
      "execution_count": 74,
      "outputs": [
        {
          "output_type": "execute_result",
          "data": {
            "text/plain": [
              "array([0.84814985, 0.84459459, 0.84689803, 0.84874079, 0.84935504])"
            ]
          },
          "metadata": {
            "tags": []
          },
          "execution_count": 74
        }
      ]
    },
    {
      "cell_type": "code",
      "metadata": {
        "colab": {
          "base_uri": "https://localhost:8080/"
        },
        "id": "gF00AjVbHT6C",
        "outputId": "7dd4d701-2f89-4e50-f09c-5dcf70c07144"
      },
      "source": [
        "np.array(scores_kf).mean()"
      ],
      "execution_count": 75,
      "outputs": [
        {
          "output_type": "execute_result",
          "data": {
            "text/plain": [
              "0.8475476612452659"
            ]
          },
          "metadata": {
            "tags": []
          },
          "execution_count": 75
        }
      ]
    },
    {
      "cell_type": "code",
      "metadata": {
        "colab": {
          "base_uri": "https://localhost:8080/"
        },
        "id": "c1BAWApeHe2u",
        "outputId": "6744379e-a3b3-49c5-dbaa-32b77f994c31"
      },
      "source": [
        "np.array(scores_kf).std()"
      ],
      "execution_count": 76,
      "outputs": [
        {
          "output_type": "execute_result",
          "data": {
            "text/plain": [
              "0.0016849574364709557"
            ]
          },
          "metadata": {
            "tags": []
          },
          "execution_count": 76
        }
      ]
    },
    {
      "cell_type": "markdown",
      "metadata": {
        "id": "91aEuQeK8rrl"
      },
      "source": [
        "##Stratified KFold"
      ]
    },
    {
      "cell_type": "code",
      "metadata": {
        "id": "Ilr-DpGu8rHd",
        "colab": {
          "base_uri": "https://localhost:8080/"
        },
        "outputId": "312304cc-69ce-40c4-e465-b7a44ce243ea"
      },
      "source": [
        "y.value_counts()"
      ],
      "execution_count": 24,
      "outputs": [
        {
          "output_type": "execute_result",
          "data": {
            "text/plain": [
              " <=50K    24720\n",
              " >50K      7841\n",
              "Name:  income, dtype: int64"
            ]
          },
          "metadata": {
            "tags": []
          },
          "execution_count": 24
        }
      ]
    },
    {
      "cell_type": "code",
      "metadata": {
        "id": "1VJo4tmd8rDu",
        "colab": {
          "base_uri": "https://localhost:8080/"
        },
        "outputId": "0afe92cb-99a9-4039-98f7-7fba5844157b"
      },
      "source": [
        "print(\"each fold should have less than 50 K:\", 24720/5)"
      ],
      "execution_count": 25,
      "outputs": [
        {
          "output_type": "stream",
          "text": [
            "each fold should have less than 50 K: 4944.0\n"
          ],
          "name": "stdout"
        }
      ]
    },
    {
      "cell_type": "code",
      "metadata": {
        "colab": {
          "base_uri": "https://localhost:8080/"
        },
        "id": "eDiwCXsUotMn",
        "outputId": "62b185d4-6b46-46fc-f4f7-ef07165ccb2c"
      },
      "source": [
        "print(\"each fold should have greater than 50 K:\", 7841/5)"
      ],
      "execution_count": 26,
      "outputs": [
        {
          "output_type": "stream",
          "text": [
            "each fold should have greater than 50 K: 1568.2\n"
          ],
          "name": "stdout"
        }
      ]
    },
    {
      "cell_type": "code",
      "metadata": {
        "id": "P-yAdnoBo5Hx"
      },
      "source": [
        "skf = StratifiedKFold(n_splits=5, shuffle=False, random_state=None)"
      ],
      "execution_count": 27,
      "outputs": []
    },
    {
      "cell_type": "code",
      "metadata": {
        "colab": {
          "base_uri": "https://localhost:8080/"
        },
        "id": "a6F6VeMLpB67",
        "outputId": "dfc1983b-2fc2-48e3-dffb-6be6843643e4"
      },
      "source": [
        "scores_skf = []\n",
        "i = 1\n",
        "for train, val in skf.split(X, y):\n",
        "  pipe.fit(X.loc[train], y[train])\n",
        "  sco = pipe.score(X.loc[val], y[val])\n",
        "  scores_skf.append(sco)\n",
        "  print(\"intiration\", i)\n",
        "  print(\"train len\", len(train))\n",
        "  print(\"val len\", len(val))\n",
        "  i += 1"
      ],
      "execution_count": 28,
      "outputs": [
        {
          "output_type": "stream",
          "text": [
            "intiration 1\n",
            "train len 26048\n",
            "val len 6513\n",
            "intiration 2\n",
            "train len 26049\n",
            "val len 6512\n",
            "intiration 3\n",
            "train len 26049\n",
            "val len 6512\n",
            "intiration 4\n",
            "train len 26049\n",
            "val len 6512\n",
            "intiration 5\n",
            "train len 26049\n",
            "val len 6512\n"
          ],
          "name": "stdout"
        }
      ]
    },
    {
      "cell_type": "code",
      "metadata": {
        "colab": {
          "base_uri": "https://localhost:8080/"
        },
        "id": "cY0SRfTAp9db",
        "outputId": "fabee62a-57f4-489c-84ae-1c137ef6dd56"
      },
      "source": [
        "scores_skf"
      ],
      "execution_count": 29,
      "outputs": [
        {
          "output_type": "execute_result",
          "data": {
            "text/plain": [
              "[0.8460003070781514,\n",
              " 0.8422911547911548,\n",
              " 0.8445945945945946,\n",
              " 0.847512285012285,\n",
              " 0.8481265356265356]"
            ]
          },
          "metadata": {
            "tags": []
          },
          "execution_count": 29
        }
      ]
    },
    {
      "cell_type": "code",
      "metadata": {
        "colab": {
          "base_uri": "https://localhost:8080/"
        },
        "id": "8RPub0vlp9Wb",
        "outputId": "fdd577f8-9b3c-4ec5-d6bd-eba1176f4b35"
      },
      "source": [
        "np.array(scores_skf)"
      ],
      "execution_count": 30,
      "outputs": [
        {
          "output_type": "execute_result",
          "data": {
            "text/plain": [
              "array([0.84600031, 0.84229115, 0.84459459, 0.84751229, 0.84812654])"
            ]
          },
          "metadata": {
            "tags": []
          },
          "execution_count": 30
        }
      ]
    },
    {
      "cell_type": "code",
      "metadata": {
        "colab": {
          "base_uri": "https://localhost:8080/"
        },
        "id": "gbcrQXS2p9QP",
        "outputId": "0b1d5a44-6b57-4ce4-b8c4-49e6afa4fd98"
      },
      "source": [
        "np.array(scores_skf).mean()"
      ],
      "execution_count": 31,
      "outputs": [
        {
          "output_type": "execute_result",
          "data": {
            "text/plain": [
              "0.8457049754205442"
            ]
          },
          "metadata": {
            "tags": []
          },
          "execution_count": 31
        }
      ]
    },
    {
      "cell_type": "code",
      "metadata": {
        "colab": {
          "base_uri": "https://localhost:8080/"
        },
        "id": "8a4gI5tdp9Ju",
        "outputId": "830e838e-9b8a-42df-96d9-ccac0950f9cc"
      },
      "source": [
        "np.array(scores_skf).std()"
      ],
      "execution_count": 32,
      "outputs": [
        {
          "output_type": "execute_result",
          "data": {
            "text/plain": [
              "0.0021026012198182417"
            ]
          },
          "metadata": {
            "tags": []
          },
          "execution_count": 32
        }
      ]
    },
    {
      "cell_type": "code",
      "metadata": {
        "colab": {
          "base_uri": "https://localhost:8080/"
        },
        "id": "eBm-UmiOs0EH",
        "outputId": "5a1c3376-8747-4952-8021-789015e2611f"
      },
      "source": [
        "i = 1\n",
        "for train, val in skf.split(X, y):\n",
        "  print(\"iteration\", i)\n",
        "  print(train, \"train fold:\", len(train))\n",
        "  print(val, \"val fold:\", len(val))\n",
        "  print(\"y train count\", y[train].value_counts())\n",
        "  print(\"y val count\", y[val].value_counts())\n",
        "  print(\"........................\")\n",
        "  i += 1"
      ],
      "execution_count": 33,
      "outputs": [
        {
          "output_type": "stream",
          "text": [
            "iteration 1\n",
            "[ 6499  6500  6512 ... 32558 32559 32560] train fold: 26048\n",
            "[   0    1    2 ... 6514 6515 6516] val fold: 6513\n",
            "y train count  <=50K    19776\n",
            " >50K      6272\n",
            "Name:  income, dtype: int64\n",
            "y val count  <=50K    4944\n",
            " >50K     1569\n",
            "Name:  income, dtype: int64\n",
            "........................\n",
            "iteration 2\n",
            "[    0     1     2 ... 32558 32559 32560] train fold: 26049\n",
            "[ 6499  6500  6512 ... 13121 13123 13125] val fold: 6512\n",
            "y train count  <=50K    19776\n",
            " >50K      6273\n",
            "Name:  income, dtype: int64\n",
            "y val count  <=50K    4944\n",
            " >50K     1568\n",
            "Name:  income, dtype: int64\n",
            "........................\n",
            "iteration 3\n",
            "[    0     1     2 ... 32558 32559 32560] train fold: 26049\n",
            "[12997 12999 13000 ... 19727 19729 19733] val fold: 6512\n",
            "y train count  <=50K    19776\n",
            " >50K      6273\n",
            "Name:  income, dtype: int64\n",
            "y val count  <=50K    4944\n",
            " >50K     1568\n",
            "Name:  income, dtype: int64\n",
            "........................\n",
            "iteration 4\n",
            "[    0     1     2 ... 32558 32559 32560] train fold: 26049\n",
            "[19482 19484 19485 ... 26161 26168 26170] val fold: 6512\n",
            "y train count  <=50K    19776\n",
            " >50K      6273\n",
            "Name:  income, dtype: int64\n",
            "y val count  <=50K    4944\n",
            " >50K     1568\n",
            "Name:  income, dtype: int64\n",
            "........................\n",
            "iteration 5\n",
            "[    0     1     2 ... 26161 26168 26170] train fold: 26049\n",
            "[26005 26006 26007 ... 32558 32559 32560] val fold: 6512\n",
            "y train count  <=50K    19776\n",
            " >50K      6273\n",
            "Name:  income, dtype: int64\n",
            "y val count  <=50K    4944\n",
            " >50K     1568\n",
            "Name:  income, dtype: int64\n",
            "........................\n"
          ],
          "name": "stdout"
        }
      ]
    },
    {
      "cell_type": "markdown",
      "metadata": {
        "id": "axyTyCoBwtHn"
      },
      "source": [
        "##All in One KFOLD"
      ]
    },
    {
      "cell_type": "code",
      "metadata": {
        "id": "DToeGeZMwifg",
        "colab": {
          "base_uri": "https://localhost:8080/"
        },
        "outputId": "21d6a499-3c9a-444b-92f2-134505e96944"
      },
      "source": [
        "start = time.time()\n",
        "all_kfold = cross_val_score(estimator=pipe, X=X, y=y, scoring='accuracy', cv=5)\n",
        "print(\"time taken:\", time.time()-start)"
      ],
      "execution_count": 38,
      "outputs": [
        {
          "output_type": "stream",
          "text": [
            "time taken: 3.0432114601135254\n"
          ],
          "name": "stdout"
        }
      ]
    },
    {
      "cell_type": "code",
      "metadata": {
        "colab": {
          "base_uri": "https://localhost:8080/"
        },
        "id": "SKYDW4EWxPFt",
        "outputId": "f6386984-cfbb-4fba-d335-b5f9442ce92f"
      },
      "source": [
        "all_kfold"
      ],
      "execution_count": 39,
      "outputs": [
        {
          "output_type": "execute_result",
          "data": {
            "text/plain": [
              "array([0.84600031, 0.84229115, 0.84459459, 0.84751229, 0.84812654])"
            ]
          },
          "metadata": {
            "tags": []
          },
          "execution_count": 39
        }
      ]
    },
    {
      "cell_type": "code",
      "metadata": {
        "colab": {
          "base_uri": "https://localhost:8080/"
        },
        "id": "aMyD05VJxTCA",
        "outputId": "a597f713-04a9-49e6-b943-aef7969aeb02"
      },
      "source": [
        "all_kfold.mean()"
      ],
      "execution_count": 40,
      "outputs": [
        {
          "output_type": "execute_result",
          "data": {
            "text/plain": [
              "0.8457049754205442"
            ]
          },
          "metadata": {
            "tags": []
          },
          "execution_count": 40
        }
      ]
    },
    {
      "cell_type": "code",
      "metadata": {
        "colab": {
          "base_uri": "https://localhost:8080/"
        },
        "id": "tMDVHSZPxWZa",
        "outputId": "b58e39ce-1ba4-4907-dc52-9e93c897677e"
      },
      "source": [
        "all_kfold.std()"
      ],
      "execution_count": 41,
      "outputs": [
        {
          "output_type": "execute_result",
          "data": {
            "text/plain": [
              "0.0021026012198182417"
            ]
          },
          "metadata": {
            "tags": []
          },
          "execution_count": 41
        }
      ]
    },
    {
      "cell_type": "markdown",
      "metadata": {
        "id": "1GNpzfc_8vY0"
      },
      "source": [
        "##LOO CV"
      ]
    },
    {
      "cell_type": "code",
      "metadata": {
        "id": "526vUwTO8rA2",
        "colab": {
          "base_uri": "https://localhost:8080/"
        },
        "outputId": "ec1f9ec5-d785-4ec9-c334-7a4b0002a9a1"
      },
      "source": [
        "start = time.time()\n",
        "loocv = cross_val_score(estimator=pipe, X=X.head(1000), y=y.head(1000), scoring='accuracy', cv=LeaveOneOut())\n",
        "print(\"time taken:\", time.time()-start)"
      ],
      "execution_count": 88,
      "outputs": [
        {
          "output_type": "stream",
          "text": [
            "time taken: 41.26244306564331\n"
          ],
          "name": "stdout"
        }
      ]
    },
    {
      "cell_type": "code",
      "metadata": {
        "id": "tLYbGiHR8zI2",
        "colab": {
          "base_uri": "https://localhost:8080/"
        },
        "outputId": "0fc48d85-680e-4769-8b73-1c7950598df1"
      },
      "source": [
        "loocv"
      ],
      "execution_count": 89,
      "outputs": [
        {
          "output_type": "execute_result",
          "data": {
            "text/plain": [
              "array([1., 0., 1., 1., 1., 0., 1., 0., 0., 1., 1., 1., 1., 1., 0., 1., 1.,\n",
              "       1., 1., 0., 1., 1., 1., 1., 1., 1., 1., 1., 1., 1., 1., 1., 1., 1.,\n",
              "       1., 1., 1., 1., 0., 1., 1., 0., 1., 1., 1., 0., 1., 1., 0., 1., 1.,\n",
              "       1., 1., 1., 1., 0., 1., 1., 1., 0., 1., 1., 1., 1., 1., 1., 1., 0.,\n",
              "       1., 1., 1., 1., 0., 1., 1., 1., 0., 1., 1., 1., 1., 1., 1., 1., 0.,\n",
              "       1., 0., 1., 1., 0., 0., 1., 1., 1., 0., 1., 1., 0., 1., 1., 1., 1.,\n",
              "       1., 1., 1., 1., 1., 1., 1., 1., 1., 1., 0., 1., 1., 1., 0., 0., 0.,\n",
              "       1., 1., 0., 1., 0., 1., 1., 1., 0., 1., 1., 1., 1., 0., 0., 1., 0.,\n",
              "       1., 1., 1., 0., 1., 1., 1., 0., 1., 1., 1., 1., 1., 1., 1., 1., 1.,\n",
              "       1., 0., 1., 1., 1., 1., 1., 1., 1., 1., 1., 0., 1., 1., 1., 1., 1.,\n",
              "       1., 1., 0., 1., 0., 1., 1., 1., 1., 0., 1., 1., 1., 0., 0., 1., 1.,\n",
              "       1., 1., 1., 1., 1., 0., 1., 0., 1., 1., 1., 1., 1., 1., 1., 1., 1.,\n",
              "       1., 1., 1., 1., 1., 1., 1., 0., 1., 1., 0., 0., 1., 0., 1., 1., 1.,\n",
              "       1., 1., 1., 1., 1., 1., 1., 1., 1., 1., 1., 1., 1., 0., 1., 1., 1.,\n",
              "       0., 1., 0., 1., 1., 1., 1., 1., 1., 1., 1., 1., 1., 0., 1., 1., 1.,\n",
              "       0., 1., 1., 1., 1., 1., 1., 1., 0., 1., 1., 1., 0., 1., 0., 1., 1.,\n",
              "       1., 1., 1., 1., 1., 1., 1., 0., 1., 1., 1., 1., 1., 1., 1., 1., 1.,\n",
              "       1., 1., 1., 1., 1., 1., 1., 1., 1., 1., 1., 1., 1., 0., 0., 1., 1.,\n",
              "       1., 1., 1., 0., 1., 1., 1., 0., 1., 1., 1., 1., 1., 1., 1., 1., 1.,\n",
              "       1., 1., 1., 1., 1., 1., 1., 1., 1., 1., 1., 0., 1., 1., 1., 1., 1.,\n",
              "       1., 1., 1., 1., 1., 1., 1., 1., 1., 1., 1., 1., 1., 1., 1., 0., 1.,\n",
              "       0., 1., 1., 1., 0., 1., 0., 1., 1., 1., 1., 0., 1., 1., 1., 0., 1.,\n",
              "       1., 1., 0., 1., 1., 1., 1., 1., 1., 1., 1., 1., 1., 0., 1., 1., 0.,\n",
              "       1., 1., 1., 1., 1., 1., 1., 0., 1., 1., 1., 1., 1., 1., 1., 1., 1.,\n",
              "       0., 0., 1., 1., 1., 1., 1., 0., 1., 1., 1., 1., 1., 1., 1., 1., 1.,\n",
              "       1., 1., 1., 1., 0., 1., 1., 1., 0., 1., 0., 1., 1., 1., 1., 1., 1.,\n",
              "       1., 1., 1., 1., 1., 1., 1., 1., 1., 1., 0., 1., 0., 1., 1., 0., 1.,\n",
              "       1., 1., 1., 0., 1., 1., 1., 1., 1., 1., 1., 0., 1., 1., 1., 1., 1.,\n",
              "       1., 1., 1., 1., 0., 1., 1., 1., 1., 1., 1., 1., 1., 1., 1., 1., 1.,\n",
              "       1., 1., 1., 1., 1., 1., 1., 1., 1., 1., 1., 1., 1., 1., 1., 1., 1.,\n",
              "       1., 1., 1., 0., 1., 1., 1., 1., 1., 0., 1., 1., 1., 0., 0., 1., 1.,\n",
              "       1., 0., 0., 1., 1., 1., 1., 1., 0., 1., 1., 1., 1., 1., 1., 1., 1.,\n",
              "       1., 1., 1., 1., 1., 1., 1., 1., 1., 1., 0., 1., 1., 1., 1., 1., 1.,\n",
              "       1., 0., 1., 1., 1., 0., 1., 1., 1., 1., 0., 1., 1., 1., 1., 1., 1.,\n",
              "       1., 1., 0., 0., 1., 1., 1., 1., 1., 1., 0., 1., 1., 1., 0., 1., 1.,\n",
              "       1., 1., 1., 1., 1., 1., 1., 1., 1., 1., 1., 0., 1., 1., 1., 0., 1.,\n",
              "       1., 1., 1., 1., 1., 1., 1., 1., 1., 1., 1., 1., 1., 1., 0., 1., 0.,\n",
              "       1., 1., 1., 1., 0., 1., 1., 1., 1., 1., 1., 1., 1., 1., 1., 1., 0.,\n",
              "       1., 1., 1., 1., 1., 1., 1., 1., 1., 1., 1., 1., 1., 0., 0., 1., 1.,\n",
              "       1., 1., 0., 1., 0., 1., 1., 1., 1., 1., 1., 0., 1., 1., 1., 1., 1.,\n",
              "       1., 0., 0., 1., 1., 1., 1., 0., 1., 1., 0., 1., 0., 1., 1., 1., 0.,\n",
              "       1., 1., 1., 1., 1., 1., 1., 1., 0., 1., 1., 1., 1., 0., 1., 1., 0.,\n",
              "       1., 1., 1., 1., 1., 1., 1., 1., 1., 0., 1., 0., 1., 1., 1., 0., 1.,\n",
              "       1., 1., 1., 1., 1., 1., 0., 1., 1., 1., 1., 1., 1., 1., 0., 1., 1.,\n",
              "       1., 1., 1., 1., 1., 1., 1., 1., 0., 1., 1., 1., 1., 0., 1., 1., 0.,\n",
              "       1., 1., 1., 1., 1., 1., 1., 1., 0., 1., 1., 1., 1., 1., 1., 1., 1.,\n",
              "       0., 1., 0., 1., 1., 1., 1., 1., 1., 1., 1., 1., 0., 1., 1., 1., 0.,\n",
              "       1., 1., 1., 1., 1., 1., 1., 1., 0., 1., 1., 1., 1., 1., 1., 1., 1.,\n",
              "       1., 0., 1., 0., 1., 1., 1., 1., 1., 0., 1., 1., 1., 1., 1., 0., 1.,\n",
              "       1., 1., 1., 1., 0., 1., 1., 1., 1., 0., 1., 1., 1., 1., 1., 0., 1.,\n",
              "       0., 1., 1., 1., 0., 1., 1., 0., 1., 0., 1., 1., 1., 1., 1., 1., 1.,\n",
              "       1., 1., 1., 1., 1., 1., 1., 1., 1., 1., 1., 0., 1., 1., 1., 1., 0.,\n",
              "       1., 1., 1., 0., 1., 1., 1., 1., 1., 1., 1., 0., 1., 1., 1., 1., 1.,\n",
              "       1., 1., 1., 1., 1., 1., 1., 1., 1., 1., 1., 1., 1., 1., 1., 1., 0.,\n",
              "       1., 1., 1., 1., 1., 1., 1., 1., 1., 1., 1., 1., 1., 1., 1., 1., 0.,\n",
              "       0., 1., 1., 1., 0., 1., 1., 0., 1., 1., 1., 1., 1., 1., 1., 0., 1.,\n",
              "       1., 1., 0., 1., 1., 1., 1., 1., 1., 1., 1., 1., 1., 1., 1., 1., 1.,\n",
              "       1., 0., 1., 0., 0., 1., 1., 1., 0., 1., 1., 1., 1., 1., 1., 0., 1.,\n",
              "       1., 1., 1., 1., 1., 0., 1., 0., 1., 1., 1., 0., 1., 1.])"
            ]
          },
          "metadata": {
            "tags": []
          },
          "execution_count": 89
        }
      ]
    },
    {
      "cell_type": "code",
      "metadata": {
        "colab": {
          "base_uri": "https://localhost:8080/"
        },
        "id": "K92AhehtCtKb",
        "outputId": "f60629a5-7354-4bff-d202-1115f4fd6d54"
      },
      "source": [
        "loocv.mean()"
      ],
      "execution_count": 90,
      "outputs": [
        {
          "output_type": "execute_result",
          "data": {
            "text/plain": [
              "0.839"
            ]
          },
          "metadata": {
            "tags": []
          },
          "execution_count": 90
        }
      ]
    },
    {
      "cell_type": "code",
      "metadata": {
        "colab": {
          "base_uri": "https://localhost:8080/"
        },
        "id": "WCd_uef-Cs6m",
        "outputId": "c13f5302-e5a7-4373-ea1e-003936f52f3d"
      },
      "source": [
        "loocv.std()"
      ],
      "execution_count": 91,
      "outputs": [
        {
          "output_type": "execute_result",
          "data": {
            "text/plain": [
              "0.36753095107759287"
            ]
          },
          "metadata": {
            "tags": []
          },
          "execution_count": 91
        }
      ]
    },
    {
      "cell_type": "markdown",
      "metadata": {
        "id": "rGrnzP4W8zmZ"
      },
      "source": [
        "##Repeated KFold"
      ]
    },
    {
      "cell_type": "code",
      "metadata": {
        "id": "d3yDIP7c86Ix",
        "colab": {
          "base_uri": "https://localhost:8080/"
        },
        "outputId": "29a263c2-15d5-4c7d-8777-0383e31939d2"
      },
      "source": [
        "start = time.time()\n",
        "repeated_kfold = cross_val_score(estimator=pipe, X=X, y=y, scoring='accuracy', cv=RepeatedKFold(n_splits=5, n_repeats=5))\n",
        "print(\"time taken:\", time.time()-start)"
      ],
      "execution_count": 59,
      "outputs": [
        {
          "output_type": "stream",
          "text": [
            "time taken: 14.802448987960815\n"
          ],
          "name": "stdout"
        }
      ]
    },
    {
      "cell_type": "code",
      "metadata": {
        "id": "p_Xn-DuT86Eg",
        "colab": {
          "base_uri": "https://localhost:8080/"
        },
        "outputId": "1ab18a48-4e83-4c85-ca2e-58f259222e18"
      },
      "source": [
        "repeated_kfold"
      ],
      "execution_count": 60,
      "outputs": [
        {
          "output_type": "execute_result",
          "data": {
            "text/plain": [
              "array([0.83893751, 0.84029484, 0.84966216, 0.8544226 , 0.85119779,\n",
              "       0.84600031, 0.8404484 , 0.84474816, 0.85288698, 0.85396192,\n",
              "       0.84600031, 0.85104423, 0.84720516, 0.84474816, 0.84505528,\n",
              "       0.83955167, 0.84136978, 0.84766585, 0.84321253, 0.85334767,\n",
              "       0.84139413, 0.84674447, 0.85119779, 0.85027641, 0.84152334])"
            ]
          },
          "metadata": {
            "tags": []
          },
          "execution_count": 60
        }
      ]
    },
    {
      "cell_type": "code",
      "metadata": {
        "colab": {
          "base_uri": "https://localhost:8080/"
        },
        "id": "PNuSctloEsNT",
        "outputId": "4127b064-bf65-41db-ea7b-f16092cc8f7b"
      },
      "source": [
        "repeated_kfold.mean()"
      ],
      "execution_count": 61,
      "outputs": [
        {
          "output_type": "execute_result",
          "data": {
            "text/plain": [
              "0.8465158975188914"
            ]
          },
          "metadata": {
            "tags": []
          },
          "execution_count": 61
        }
      ]
    },
    {
      "cell_type": "code",
      "metadata": {
        "colab": {
          "base_uri": "https://localhost:8080/"
        },
        "id": "oZAMlFUUEsC7",
        "outputId": "ffb04279-173c-4399-b68e-c03798b582c3"
      },
      "source": [
        "repeated_kfold.std()"
      ],
      "execution_count": 62,
      "outputs": [
        {
          "output_type": "execute_result",
          "data": {
            "text/plain": [
              "0.00479322570478419"
            ]
          },
          "metadata": {
            "tags": []
          },
          "execution_count": 62
        }
      ]
    },
    {
      "cell_type": "markdown",
      "metadata": {
        "id": "cadhaeq1E3Dx"
      },
      "source": [
        "##Repeated StratifiedKFold"
      ]
    },
    {
      "cell_type": "code",
      "metadata": {
        "id": "RBqiDpZi85-7",
        "colab": {
          "base_uri": "https://localhost:8080/"
        },
        "outputId": "c0975c8a-48ef-4023-d248-fb3a49a12fc6"
      },
      "source": [
        "start = time.time()\n",
        "repeated_stratifiedKfold = cross_val_score(estimator=pipe, X=X, y=y, scoring='accuracy', cv=RepeatedStratifiedKFold(n_splits=5, n_repeats=5))\n",
        "print(\"time taken:\", time.time()-start)"
      ],
      "execution_count": 63,
      "outputs": [
        {
          "output_type": "stream",
          "text": [
            "time taken: 14.937236785888672\n"
          ],
          "name": "stdout"
        }
      ]
    },
    {
      "cell_type": "code",
      "metadata": {
        "colab": {
          "base_uri": "https://localhost:8080/"
        },
        "id": "4LPgvQGzFMeg",
        "outputId": "d16fca8c-7f43-46d6-8087-212932c310c3"
      },
      "source": [
        "repeated_stratifiedKfold"
      ],
      "execution_count": 64,
      "outputs": [
        {
          "output_type": "execute_result",
          "data": {
            "text/plain": [
              "array([0.85183479, 0.84382678, 0.85211916, 0.85027641, 0.84275184,\n",
              "       0.84661446, 0.85089066, 0.84613022, 0.83845209, 0.84797297,\n",
              "       0.84784278, 0.84428747, 0.84735872, 0.84720516, 0.85257985,\n",
              "       0.85290957, 0.84490172, 0.84136978, 0.84843366, 0.85519042,\n",
              "       0.84292953, 0.84490172, 0.84551597, 0.84812654, 0.84797297])"
            ]
          },
          "metadata": {
            "tags": []
          },
          "execution_count": 64
        }
      ]
    },
    {
      "cell_type": "code",
      "metadata": {
        "colab": {
          "base_uri": "https://localhost:8080/"
        },
        "id": "xLE8nIvnFMVq",
        "outputId": "e52c5711-f0a5-4d74-afcc-04f358cfc1a9"
      },
      "source": [
        "repeated_stratifiedKfold.mean()"
      ],
      "execution_count": 65,
      "outputs": [
        {
          "output_type": "execute_result",
          "data": {
            "text/plain": [
              "0.8472958100053909"
            ]
          },
          "metadata": {
            "tags": []
          },
          "execution_count": 65
        }
      ]
    },
    {
      "cell_type": "code",
      "metadata": {
        "colab": {
          "base_uri": "https://localhost:8080/"
        },
        "id": "APkoQ0NFFOKV",
        "outputId": "91eb1a4f-a77d-433f-94a1-bebf89b74aac"
      },
      "source": [
        "repeated_stratifiedKfold.std()"
      ],
      "execution_count": 66,
      "outputs": [
        {
          "output_type": "execute_result",
          "data": {
            "text/plain": [
              "0.0039050076369137885"
            ]
          },
          "metadata": {
            "tags": []
          },
          "execution_count": 66
        }
      ]
    },
    {
      "cell_type": "markdown",
      "metadata": {
        "id": "-sRBcD-4FZr3"
      },
      "source": [
        "##Tally"
      ]
    },
    {
      "cell_type": "code",
      "metadata": {
        "colab": {
          "base_uri": "https://localhost:8080/"
        },
        "id": "xbkU8qcCFeEw",
        "outputId": "70298e03-141e-4681-af7b-ec34cde2196e"
      },
      "source": [
        "#accuracy means of 5 folds\n",
        "print(\"kfold:\",np.array(scores_kf).mean())\n",
        "print(\"stratified kfold:\",np.array(scores_skf).mean())\n",
        "print(\"All-in-one KFold:\", all_kfold.mean())\n",
        "print(\"LOO CV:\", loocv.mean())\n",
        "print(\"Repeated KFold:\", repeated_kfold.mean())\n",
        "print(\"Repeated Stratified KFold:\", repeated_stratifiedKfold.mean())"
      ],
      "execution_count": 92,
      "outputs": [
        {
          "output_type": "stream",
          "text": [
            "kfold: 0.8475476612452659\n",
            "stratified kfold: 0.8457049754205442\n",
            "All-in-one KFold: 0.8457049754205442\n",
            "LOO CV: 0.839\n",
            "Repeated KFold: 0.8465158975188914\n",
            "Repeated Stratified KFold: 0.8472958100053909\n"
          ],
          "name": "stdout"
        }
      ]
    }
  ]
}